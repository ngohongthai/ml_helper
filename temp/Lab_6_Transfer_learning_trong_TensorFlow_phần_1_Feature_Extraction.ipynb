{
  "cells": [
    {
      "cell_type": "markdown",
      "metadata": {
        "id": "view-in-github"
      },
      "source": [
        "<a href=\"https://colab.research.google.com/github/mrdbourke/tensorflow-deep-learning/blob/main/04_transfer_learning_in_tensorflow_part_1_feature_extraction.ipynb\" target=\"_parent\"><img src=\"https://colab.research.google.com/assets/colab-badge.svg\" alt=\"Open In Colab\"/></a>"
      ]
    },
    {
      "cell_type": "markdown",
      "metadata": {
        "id": "ObwiuiGkZb87"
      },
      "source": [
        "# 04. Transfer Learning với TensorFlow - Phần 1: Trích xuất đặc trưng\n",
        "\n",
        "Chúng ta đã tạo khá nhiều CNN từ đầu và chúng có vẻ đều đang học, tuy nhiên vẫn còn không gian để cải thiện.\n",
        "\n",
        "Để cải thiện mô hình, hãy dành một chút thời gian thử các cấu hình khác nhau, thêm nhiều lớp hơn, thay đổi tốc độ học, điều chỉnh số nơ-ron mỗi lớp,...\n",
        "\n",
        "Tuy nhiên, thực hiện như vậy khá tốn thời gian.\n",
        "\n",
        "May thay, có một kỹ thuật giúp tiết kiệm thời gian.\n",
        "\n",
        "Đó là **transfer learning (học truyền tải)**, là lấy các pattern (còn gọi là trọng số) mà mô hình khác đã tìm hiểu từ một bài toán khác và sử dụng cho bài toán của bạn.\n",
        "\n",
        "Có hai lợi ích chính khi sử dụng transfer learning:\n",
        "1. Tận dụng kiến trúc mạng nơ-ron có sẵn được chứng minh là hoạt động tương tự với bài toán của chúng ta.\n",
        "2. Tận dụng kiến trúc mạng nơ-ron đang hoạt động **vốn đã tìm hiểu** pattern trên dữ liệu tương tự với dữ liệu của chúng ta. Điều này đạt được kết quả tốt với ít dữ liệu tùy chỉnh hơn.\n",
        "\n",
        "Như vậy, thay vì tạo thủ công hoặc xây dựng từ đầu kiến trúc mạng nơ-ron, chúng ta sẽ sử dụng những mô hình đã thực hiện cho các kiến trúc khác.\n",
        "\n",
        "Và thay vì huấn luyện mô hình từ đầu với tập dữ liệu của chúng ta, có thể lấy các pattern mà mô hình đã tìm hiểu từ các tập dữ liệu như [ImageNet](http://www.image-net.org/) (có hàng triệu hình ảnh về các đối tượng khác nhau) và dùng chúng làm nền tảng cho mô hình của chúng ta. Điều này thường đạt được kết quả tốt với ít dữ liệu hơn.\n",
        "\n",
        "Chúng ta sẽ thấy khả năng thực tế của transfer learning qua các notebook tiếp theo.\n",
        "\n",
        "## Những điều chúng ta sẽ tìm hiểu\n",
        "\n",
        "Chúng ta sẽ xem xét những điều sau với TensorFlow:\n",
        "\n",
        "- Giới thiệu transfer learning (cách đánh bại tất cả các mô hình tự xây cũ của chúng ta)\n",
        "- Sử dụng tập dữ liệu nhỏ hơn để tiến hành nhanh hơn (10% mẫu huấn luyện của 10 lớp thức ăn)\n",
        "- Xây dựng mô hình trích xuất đặc trưng học truyền tải bằng TensorFlow Hub\n",
        "- Giới thiệu TensorBoard callback để theo dõi kết quả huấn luyện mô hình\n",
        "- So sánh kết quả mô hình với TensorBoard\n",
        "\n",
        "## Cách sử dụng notebook này\n",
        "\n",
        "Các bạn có thể đọc qua các mô tả và code (tất cả sẽ chạy, trừ những cell mắc lỗi có chủ đích), nhưng có một lựa chọn tốt hơn.\n",
        "\n",
        "Tự viết toàn bộ code.\n",
        "\n",
        "Nghiêm túc đấy. Hãy tạo notebook mới và tự viết lại từng dòng. Kiểm tra xem bạn có thể thay đổi nó không và lý do cho điều đó.\n",
        "\n",
        "Bạn không cần viết mô tả bằng văn bản nhưng tự viết lại code là một cách tuyệt vời để có trải nghiệm thực tiễn.\n",
        "\n",
        "Đừng lo lắng nếu mắc sai sót, ai cũng đều mắc lỗi cả. Cách thực hiện tốt hơn và mắc ít lỗi hơn là **viết nhiều code hơn**."
      ]
    },
    {
      "cell_type": "markdown",
      "metadata": {
        "id": "UTWetPM7AWfY"
      },
      "source": [
        "## Dùng GPU\n",
        "\n",
        "Để bắt đầu, hãy kiểm tra xem, chúng ta có đang dùng GPU không. Sử dụng GPU giúp đảm bảo mô hình huấn luyện nhanh hơn so với chỉ sử dụng CPU.\n"
      ]
    },
    {
      "cell_type": "code",
      "execution_count": 1,
      "metadata": {
        "colab": {
          "base_uri": "https://localhost:8080/"
        },
        "id": "Nq4kxIpQMpZT",
        "outputId": "5a53217a-7674-437c-df90-8e9ae37a54ed"
      },
      "outputs": [],
      "source": [
        "# Chúng ta có đang sử dụng GPU không?\n",
        "#!nvidia-smi"
      ]
    },
    {
      "cell_type": "markdown",
      "metadata": {
        "id": "Ol3NDTVlRLSv"
      },
      "source": [
        "Nếu các cell trên không xuất ra như sau:\n",
        "\n",
        "```\n",
        "Fri Sep  4 03:35:21 2020       \n",
        "+-----------------------------------------------------------------------------+\n",
        "| NVIDIA-SMI 450.66       Driver Version: 418.67       CUDA Version: 10.1     |\n",
        "|-------------------------------+----------------------+----------------------+\n",
        "| GPU  Name        Persistence-M| Bus-Id        Disp.A | Volatile Uncorr. ECC |\n",
        "| Fan  Temp  Perf  Pwr:Usage/Cap|         Memory-Usage | GPU-Util  Compute M. |\n",
        "|                               |                      |               MIG M. |\n",
        "|===============================+======================+======================|\n",
        "|   0  Tesla P100-PCIE...  Off  | 00000000:00:04.0 Off |                    0 |\n",
        "| N/A   35C    P0    26W / 250W |      0MiB / 16280MiB |      0%      Default |\n",
        "|                               |                      |                 ERR! |\n",
        "+-------------------------------+----------------------+----------------------+\n",
        "                                                                               \n",
        "+-----------------------------------------------------------------------------+\n",
        "| Processes:                                                                  |\n",
        "|  GPU   GI   CI        PID   Type   Process name                  GPU Memory |\n",
        "|        ID   ID                                                   Usage      |\n",
        "|=============================================================================|\n",
        "|  No running processes found                                                 |\n",
        "+-----------------------------------------------------------------------------+\n",
        "```\n",
        "\n",
        "thì hãy vào Runtime -> Change Runtime Type -> Hardware Accelerator và chọn \"GPU\", sau đó chạy lại cell trên."
      ]
    },
    {
      "cell_type": "markdown",
      "metadata": {
        "id": "7NY09457NKv4"
      },
      "source": [
        "## Transfer learning với TensorFlow Hub: Kết quả tốt chỉ với 10% dữ liệu\n",
        "\n",
        "Nếu bạn đang nghĩ \"chắc chắn ai đó khác dành thời gian tạo mô hình thích hợp cho việc...\" thì bạn gặp may rồi.\n",
        "\n",
        "Với nhiều bài toán cần sử dụng deep learning, rất có thể tồn tại một mô hình đang hoạt động.\n",
        " \n",
        "Tin tốt là chúng ta có thể truy cập nhiều mô hình trong TensorFlow Hub.\n",
        "\n",
        "[TensorFlow Hub](https://tfhub.dev/) là một kho lưu trữ các thành phần mô hình có sẵn, chúng ta có thể import và sử dụng một mô hình được huấn luyện đầy đủ với ít nhất một URL.\n",
        "\n",
        "Bây giờ tôi thực sự muốn minh chứng khả năng của transfer learning với các bạn.\n",
        "\n",
        "Sẽ thế nào nếu tôi nói rằng rằng chúng ta có thể đạt được kết quả tương tự (hoặc tốt hơn) so với mô hình tốt nhất của chúng ta cho tới nay chỉ với 10% dữ liệu ban đầu, hay ít hơn 10 lần dữ liệu.\n",
        "\n",
        "Điều này có vẻ khác thường phải không?\n",
        "\n",
        "Các bạn sẽ không nghĩ rằng nhiều ví dụ về ảnh thức ăn hơn sẽ dẫn tới kết quả tốt hơn chứ? \n",
        "\n",
        "Nghĩ vậy đúng rồi đấy, nhìn chung, nhiều dữ liệu hơn sẽ cho kết quả tốt hơn.\n",
        "\n",
        "Tuy nhiên, sẽ thế nào nếu chúng ta không có nhiều dữ liệu? Sẽ thế nào nếu chúng ta chỉ có 75 ảnh mỗi lớp thay vì 750 hình mỗi lớp?\n",
        "\n",
        "Thu thập thêm 675 ảnh của một lớp nhất định sẽ tốn nhiều thời gian.\n",
        "\n",
        "Cho nên đây lại là một lợi ích chính của transfer learning.\n",
        "\n",
        "**Transfer learning thường cho phép đạt được kết quả tốt hơn với ít dữ liệu hơn.**\n",
        "\n",
        "Nhưng đừng chỉ nghe lời như vậy. Hãy download một tập con dữ liệu mà chúng ta đang sử dụng, cụ thể là 10% dữ liệu huấn luyện từ tập dữ liệu `10_food_classes` và sử dụng nó để huấn luyện một bộ phân loại hình ảnh thức ăn.\n",
        "\n",
        "![](https://raw.githubusercontent.com/mrdbourke/tensorflow-deep-learning/main/images/04-transfer-learning-feature-extraction.png)\n",
        "*Những gì chúng ta đang thực hiện cho việc xây dựng. Lấy một mô hình đã huấn luyện trước đó và thêm custom layer lên trên, trích xuất toàn bộ pattern cơ bản đã học trên một tập dữ liệu hình ảnh khác.* \n",
        "\n"
      ]
    },
    {
      "cell_type": "markdown",
      "metadata": {
        "id": "UIwVrX6vXb4z"
      },
      "source": [
        "## Downloading và làm quen với dữ liệu"
      ]
    },
    {
      "cell_type": "code",
      "execution_count": 2,
      "metadata": {
        "colab": {
          "base_uri": "https://localhost:8080/"
        },
        "id": "qwWwP657Szfv",
        "outputId": "46b1d719-f47b-4918-92e8-92a18c1935b7"
      },
      "outputs": [
        {
          "name": "stdout",
          "output_type": "stream",
          "text": [
            "--2022-10-15 22:40:52--  https://storage.googleapis.com/ztm_tf_course/food_vision/10_food_classes_10_percent.zip\n",
            "Resolving storage.googleapis.com (storage.googleapis.com)... 2404:6800:4005:81a::2010, 2404:6800:4005:81b::2010, 2404:6800:4005:81c::2010, ...\r\n",
            "Connecting to storage.googleapis.com (storage.googleapis.com)|2404:6800:4005:81a::2010|:443... connected.\r\n",
            "HTTP request sent, awaiting response... 200 OK\r\n",
            "Length: 168546183 (161M) [application/zip]\r\n",
            "Saving to: ‘10_food_classes_10_percent.zip’\r\n",
            "\r\n",
            "\r          10_food_c   0%[                    ]       0  --.-KB/s               \r         10_food_cl   0%[                    ]  46.84K   211KB/s               \r        10_food_cla   0%[                    ] 124.73K   278KB/s               \r       10_food_clas   0%[                    ] 379.79K   542KB/s               \r      10_food_class   0%[                    ] 847.05K   931KB/s               \r     10_food_classe   1%[                    ]   1.94M  1.70MB/s               \r    10_food_classes   2%[                    ]   3.51M  2.59MB/s               \r   10_food_classes_   3%[                    ]   5.02M  3.05MB/s               \r  10_food_classes_1   4%[                    ]   6.80M  3.68MB/s               \r 10_food_classes_10   4%[                    ]   7.29M  3.36MB/s               \r10_food_classes_10_   6%[>                   ]  10.66M  4.50MB/s               \r0_food_classes_10_p   7%[>                   ]  12.32M  4.59MB/s               \r_food_classes_10_pe   8%[>                   ]  13.05M  4.34MB/s    eta 34s    \rfood_classes_10_per   9%[>                   ]  14.76M  4.59MB/s    eta 34s    \rood_classes_10_perc   9%[>                   ]  15.72M  4.56MB/s    eta 34s    \rod_classes_10_perce  10%[=>                  ]  17.46M  4.79MB/s    eta 34s    \rd_classes_10_percen  11%[=>                  ]  18.41M  4.97MB/s    eta 34s    \r_classes_10_percent  12%[=>                  ]  19.51M  5.12MB/s    eta 31s    \rclasses_10_percent.  12%[=>                  ]  20.10M  5.15MB/s    eta 31s    \rlasses_10_percent.z  15%[==>                 ]  24.33M  5.98MB/s    eta 31s    \rasses_10_percent.zi  15%[==>                 ]  25.28M  6.10MB/s    eta 31s    \rsses_10_percent.zip  16%[==>                 ]  26.49M  5.62MB/s    eta 28s    \rses_10_percent.zip   18%[==>                 ]  29.72M  6.04MB/s    eta 28s    \res_10_percent.zip    18%[==>                 ]  30.21M  5.93MB/s    eta 28s    \rs_10_percent.zip     19%[==>                 ]  32.13M  6.00MB/s    eta 28s    \r_10_percent.zip      20%[===>                ]  33.51M  5.77MB/s    eta 28s    \r10_percent.zip       21%[===>                ]  34.99M  5.65MB/s    eta 24s    \r0_percent.zip        22%[===>                ]  36.90M  6.13MB/s    eta 24s    \r_percent.zip         23%[===>                ]  38.33M  6.15MB/s    eta 24s    \rpercent.zip          23%[===>                ]  38.49M  5.78MB/s    eta 24s    \rercent.zip           25%[====>               ]  41.16M  6.04MB/s    eta 24s    \rrcent.zip            26%[====>               ]  42.69M  6.25MB/s    eta 22s    \rcent.zip             27%[====>               ]  43.60M  6.03MB/s    eta 22s    \rent.zip              28%[====>               ]  45.32M  6.68MB/s    eta 22s    \rnt.zip               28%[====>               ]  46.13M  5.68MB/s    eta 22s    \rt.zip                29%[====>               ]  47.97M  5.89MB/s    eta 22s    \r.zip                 30%[=====>              ]  48.62M  6.26MB/s    eta 21s    \rzip                  30%[=====>              ]  49.35M  5.50MB/s    eta 21s    \rip                   32%[=====>              ]  51.62M  6.00MB/s    eta 21s    \rp                    33%[=====>              ]  53.54M  6.10MB/s    eta 21s    \r                     34%[=====>              ]  54.97M  6.12MB/s    eta 21s    \r                  1  34%[=====>              ]  55.60M  5.76MB/s    eta 19s    \r                 10  34%[=====>              ]  56.08M  5.78MB/s    eta 19s    \r                10_  36%[======>             ]  59.05M  6.07MB/s    eta 19s    \r               10_f  37%[======>             ]  60.69M  6.17MB/s    eta 19s    \r              10_fo  38%[======>             ]  62.40M  6.11MB/s    eta 17s    \r             10_foo  38%[======>             ]  62.57M  5.70MB/s    eta 17s    \r            10_food  40%[=======>            ]  64.74M  5.87MB/s    eta 17s    \r           10_food_  42%[=======>            ]  67.65M  6.41MB/s    eta 17s    \r          10_food_c  42%[=======>            ]  68.96M  6.38MB/s    eta 17s    \r         10_food_cl  43%[=======>            ]  69.91M  6.17MB/s    eta 16s    \r        10_food_cla  45%[========>           ]  73.04M  6.49MB/s    eta 16s    \r       10_food_clas  46%[========>           ]  74.12M  6.63MB/s    eta 16s    \r      10_food_class  47%[========>           ]  75.96M  6.93MB/s    eta 16s    \r     10_food_classe  47%[========>           ]  76.94M  6.51MB/s    eta 16s    \r    10_food_classes  48%[========>           ]  78.21M  6.16MB/s    eta 14s    \r   10_food_classes_  50%[=========>          ]  80.44M  6.54MB/s    eta 14s    \r  10_food_classes_1  50%[=========>          ]  81.37M  6.80MB/s    eta 14s    \r 10_food_classes_10  51%[=========>          ]  82.71M  6.76MB/s    eta 14s    \r10_food_classes_10_  51%[=========>          ]  82.99M  5.97MB/s    eta 14s    \r0_food_classes_10_p  53%[=========>          ]  86.04M  6.30MB/s    eta 13s    \r_food_classes_10_pe  54%[=========>          ]  87.13M  6.20MB/s    eta 13s    \rfood_classes_10_per  55%[==========>         ]  88.94M  6.91MB/s    eta 13s    \rood_classes_10_perc  55%[==========>         ]  89.69M  5.82MB/s    eta 13s    \rod_classes_10_perce  58%[==========>         ]  93.29M  6.39MB/s    eta 11s    \rd_classes_10_percen  58%[==========>         ]  94.15M  6.26MB/s    eta 11s    \r_classes_10_percent  59%[==========>         ]  95.76M  6.58MB/s    eta 11s    \rclasses_10_percent.  60%[===========>        ]  97.76M  6.20MB/s    eta 11s    \rlasses_10_percent.z  61%[===========>        ]  98.24M  6.11MB/s    eta 11s    \rasses_10_percent.zi  61%[===========>        ]  99.58M  5.97MB/s    eta 10s    \rsses_10_percent.zip  63%[===========>        ] 101.72M  6.20MB/s    eta 10s    \rses_10_percent.zip   63%[===========>        ] 102.47M  6.20MB/s    eta 10s    \res_10_percent.zip    65%[============>       ] 104.69M  6.20MB/s    eta 10s    \rs_10_percent.zip     65%[============>       ] 105.87M  6.20MB/s    eta 9s     \r_10_percent.zip      67%[============>       ] 107.91M  6.74MB/s    eta 9s     \r10_percent.zip       67%[============>       ] 108.99M  6.20MB/s    eta 9s     \r0_percent.zip        69%[============>       ] 111.04M  6.23MB/s    eta 9s     \r_percent.zip         69%[============>       ] 111.88M  6.25MB/s    eta 9s     \rpercent.zip          70%[=============>      ] 112.57M  6.47MB/s    eta 8s     \rercent.zip           71%[=============>      ] 114.30M  5.85MB/s    eta 8s     \rrcent.zip            72%[=============>      ] 115.85M  5.98MB/s    eta 8s     \rcent.zip             72%[=============>      ] 116.38M  5.69MB/s    eta 8s     \rent.zip              73%[=============>      ] 118.82M  5.81MB/s    eta 7s     \rnt.zip               74%[=============>      ] 120.21M  5.82MB/s    eta 7s     \rt.zip                75%[==============>     ] 120.94M  5.33MB/s    eta 7s     \r.zip                 77%[==============>     ] 124.87M  5.91MB/s    eta 6s     \rzip                  79%[==============>     ] 127.12M  5.99MB/s    eta 6s     \rip                   79%[==============>     ] 128.46M  6.19MB/s    eta 6s     \rp                    80%[===============>    ] 129.30M  5.94MB/s    eta 6s     \r                     82%[===============>    ] 132.01M  6.17MB/s    eta 6s     \r                  1  83%[===============>    ] 133.53M  6.31MB/s    eta 5s     \r                 10  83%[===============>    ] 134.91M  6.11MB/s    eta 5s     \r                10_  85%[================>   ] 136.74M  6.40MB/s    eta 5s     \r               10_f  85%[================>   ] 137.97M  6.54MB/s    eta 5s     \r              10_fo  86%[================>   ] 139.55M  6.29MB/s    eta 4s     \r             10_foo  88%[================>   ] 142.46M  6.50MB/s    eta 4s     \r            10_food  90%[=================>  ] 145.30M  6.61MB/s    eta 4s     \r           10_food_  91%[=================>  ] 147.30M  6.80MB/s    eta 4s     \r          10_food_c  92%[=================>  ] 148.79M  7.03MB/s    eta 2s     \r         10_food_cl  93%[=================>  ] 150.02M  7.56MB/s    eta 2s     \r        10_food_cla  94%[=================>  ] 151.35M  6.53MB/s    eta 2s     \r       10_food_clas  94%[=================>  ] 152.15M  6.27MB/s    eta 2s     \r      10_food_class  96%[==================> ] 154.55M  6.61MB/s    eta 1s     \r     10_food_classe  96%[==================> ] 155.79M  6.82MB/s    eta 1s     \r    10_food_classes  97%[==================> ] 157.44M  6.88MB/s    eta 1s     \r   10_food_classes_  98%[==================> ] 158.87M  6.54MB/s    eta 1s     \r  10_food_classes_1  99%[==================> ] 160.35M  6.66MB/s    eta 1s     \r10_food_classes_10_ 100%[===================>] 160.74M  6.70MB/s    in 26s     \r\n",
            "\r\n",
            "2022-10-15 22:41:19 (6.07 MB/s) - ‘10_food_classes_10_percent.zip’ saved [168546183/168546183]\r\n",
            "\r\n"
          ]
        }
      ],
      "source": [
        "# Lấy dữ liệu (10% nhãn)\n",
        "# import zipfile\n",
        "\n",
        "# # Download dữ liệu\n",
        "# !wget https://storage.googleapis.com/ztm_tf_course/food_vision/10_food_classes_10_percent.zip\n",
        "\n",
        "# # Giải nén dữ liệu đã download \n",
        "# zip_ref = zipfile.ZipFile(\"10_food_classes_10_percent.zip\", \"r\")\n",
        "# zip_ref.extractall()\n",
        "# zip_ref.close()"
      ]
    },
    {
      "cell_type": "code",
      "execution_count": 1,
      "metadata": {
        "colab": {
          "base_uri": "https://localhost:8080/"
        },
        "id": "agzJYtfFBl6I",
        "outputId": "f347e60c-72ed-49c6-e706-c8be3439bea4"
      },
      "outputs": [
        {
          "name": "stdout",
          "output_type": "stream",
          "text": [
            "There are 2 directories and 0 images in '10_food_classes_10_percent'.\n",
            "There are 10 directories and 0 images in '10_food_classes_10_percent/test'.\n",
            "There are 0 directories and 250 images in '10_food_classes_10_percent/test/ice_cream'.\n",
            "There are 0 directories and 250 images in '10_food_classes_10_percent/test/chicken_curry'.\n",
            "There are 0 directories and 250 images in '10_food_classes_10_percent/test/steak'.\n",
            "There are 0 directories and 250 images in '10_food_classes_10_percent/test/sushi'.\n",
            "There are 0 directories and 250 images in '10_food_classes_10_percent/test/chicken_wings'.\n",
            "There are 0 directories and 250 images in '10_food_classes_10_percent/test/grilled_salmon'.\n",
            "There are 0 directories and 250 images in '10_food_classes_10_percent/test/hamburger'.\n",
            "There are 0 directories and 250 images in '10_food_classes_10_percent/test/pizza'.\n",
            "There are 0 directories and 250 images in '10_food_classes_10_percent/test/ramen'.\n",
            "There are 0 directories and 250 images in '10_food_classes_10_percent/test/fried_rice'.\n",
            "There are 10 directories and 0 images in '10_food_classes_10_percent/train'.\n",
            "There are 0 directories and 75 images in '10_food_classes_10_percent/train/ice_cream'.\n",
            "There are 0 directories and 75 images in '10_food_classes_10_percent/train/chicken_curry'.\n",
            "There are 0 directories and 75 images in '10_food_classes_10_percent/train/steak'.\n",
            "There are 0 directories and 75 images in '10_food_classes_10_percent/train/sushi'.\n",
            "There are 0 directories and 75 images in '10_food_classes_10_percent/train/chicken_wings'.\n",
            "There are 0 directories and 75 images in '10_food_classes_10_percent/train/grilled_salmon'.\n",
            "There are 0 directories and 75 images in '10_food_classes_10_percent/train/hamburger'.\n",
            "There are 0 directories and 75 images in '10_food_classes_10_percent/train/pizza'.\n",
            "There are 0 directories and 75 images in '10_food_classes_10_percent/train/ramen'.\n",
            "There are 0 directories and 75 images in '10_food_classes_10_percent/train/fried_rice'.\n"
          ]
        }
      ],
      "source": [
        "# Mỗi folder có bao nhiêu ảnh?\n",
        "import os\n",
        "\n",
        "# Xem quan 10% data directory và liệt kê số file\n",
        "for dirpath, dirnames, filenames in os.walk(\"10_food_classes_10_percent\"):\n",
        "  print(f\"There are {len(dirnames)} directories and {len(filenames)} images in '{dirpath}'.\")"
      ]
    },
    {
      "cell_type": "code",
      "execution_count": 2,
      "metadata": {},
      "outputs": [
        {
          "name": "stdout",
          "output_type": "stream",
          "text": [
            "\u001b[01;34m10_food_classes_10_percent\u001b[0m\n",
            "├── \u001b[01;34mtest\u001b[0m\n",
            "│   ├── \u001b[01;34mchicken_curry\u001b[0m\n",
            "│   ├── \u001b[01;34mchicken_wings\u001b[0m\n",
            "│   ├── \u001b[01;34mfried_rice\u001b[0m\n",
            "│   ├── \u001b[01;34mgrilled_salmon\u001b[0m\n",
            "│   ├── \u001b[01;34mhamburger\u001b[0m\n",
            "│   ├── \u001b[01;34mice_cream\u001b[0m\n",
            "│   ├── \u001b[01;34mpizza\u001b[0m\n",
            "│   ├── \u001b[01;34mramen\u001b[0m\n",
            "│   ├── \u001b[01;34msteak\u001b[0m\n",
            "│   └── \u001b[01;34msushi\u001b[0m\n",
            "└── \u001b[01;34mtrain\u001b[0m\n",
            "    ├── \u001b[01;34mchicken_curry\u001b[0m\n",
            "    ├── \u001b[01;34mchicken_wings\u001b[0m\n",
            "    ├── \u001b[01;34mfried_rice\u001b[0m\n",
            "    ├── \u001b[01;34mgrilled_salmon\u001b[0m\n",
            "    ├── \u001b[01;34mhamburger\u001b[0m\n",
            "    ├── \u001b[01;34mice_cream\u001b[0m\n",
            "    ├── \u001b[01;34mpizza\u001b[0m\n",
            "    ├── \u001b[01;34mramen\u001b[0m\n",
            "    ├── \u001b[01;34msteak\u001b[0m\n",
            "    └── \u001b[01;34msushi\u001b[0m\n",
            "\n",
            "22 directories\n"
          ]
        }
      ],
      "source": [
        "!tree 10_food_classes_10_percent -d"
      ]
    },
    {
      "cell_type": "code",
      "execution_count": 3,
      "metadata": {},
      "outputs": [
        {
          "name": "stdout",
          "output_type": "stream",
          "text": [
            "There are 10 classes in the dataset\n",
            "==================================================\n",
            "class                train                test                \n",
            "--------------------------------------------------\n",
            "ice_cream            75                   250                 \n",
            "chicken_curry        75                   250                 \n",
            "steak                75                   250                 \n",
            "sushi                75                   250                 \n",
            "chicken_wings        75                   250                 \n",
            "grilled_salmon       75                   250                 \n",
            "hamburger            75                   250                 \n",
            "pizza                75                   250                 \n",
            "ramen                75                   250                 \n",
            "fried_rice           75                   250                 \n",
            "--------------------------------------------------\n",
            "Total                750                  2500                \n"
          ]
        }
      ],
      "source": [
        "import os\n",
        "\n",
        "train_dir = \"10_food_classes_10_percent/train/\"\n",
        "test_dir = \"10_food_classes_10_percent/test/\"\n",
        "\n",
        "all_classes = os.listdir(train_dir)\n",
        "print(\"There are {} classes in the dataset\".format(len(all_classes)))\n",
        "print(\"=\"*50)\n",
        "title = ['class', 'train', 'test']\n",
        "print(\"{:<20} {:<20} {:<20}\".format(*title))\n",
        "print(\"-\"*50)\n",
        "total_train = 0\n",
        "total_test = 0\n",
        "for i in all_classes:\n",
        "    print(\"{:<20} {:<20} {:<20}\".format(i, len(os.listdir(train_dir+i)), len(os.listdir(test_dir+i))))\n",
        "    total_test += len(os.listdir(test_dir+i))\n",
        "    total_train += len(os.listdir(train_dir+i))\n",
        "print(\"-\"*50)\n",
        "print(\"{:<20} {:<20} {:<20}\".format(\"Total\", total_train, total_test))"
      ]
    },
    {
      "cell_type": "markdown",
      "metadata": {
        "id": "F0r-zyagV7Qa"
      },
      "source": [
        "Lưu ý mỗi training directory bây giờ có 75 ảnh chứ không phải 750 ảnh. Đây là then chốt cho việc chứng minh transfer learning hoạt động tốt thế nào với ít ảnh được dán nhãn hơn.\n",
        "\n",
        "Test directory vẫn có cùng một lượng ảnh, có nghĩa là chúng ta sẽ huấn luyện trên ít dữ liệu hơn nhưng đánh giá mô hình trên cùng một lượng dữ liệu kiểm tra."
      ]
    },
    {
      "cell_type": "markdown",
      "metadata": {
        "id": "EES-NoeaXfYT"
      },
      "source": [
        "## Tạo data loader (chuẩn bị dữ liệu)\n",
        "\n",
        "Chúng ta đã download dữ liệu, hãy dùng lớp  [`ImageDataGenerator`](https://www.tensorflow.org/api_docs/python/tf/keras/preprocessing/image/ImageDataGenerator) với phương thức `flow_from_directory` để load ảnh."
      ]
    },
    {
      "cell_type": "code",
      "execution_count": 1,
      "metadata": {
        "colab": {
          "base_uri": "https://localhost:8080/"
        },
        "id": "YAp0GN60S-rK",
        "outputId": "bb4a2dc3-fad9-416b-b81a-b2a0d3abcb45"
      },
      "outputs": [
        {
          "name": "stderr",
          "output_type": "stream",
          "text": [
            "/Users/ngohongthai/Documents/projects/tensorflow-env/env/lib/python3.8/site-packages/requests/__init__.py:102: RequestsDependencyWarning: urllib3 (1.26.9) or chardet (5.0.0)/charset_normalizer (2.0.12) doesn't match a supported version!\n",
            "  warnings.warn(\"urllib3 ({}) or chardet ({})/charset_normalizer ({}) doesn't match a supported \"\n"
          ]
        },
        {
          "name": "stdout",
          "output_type": "stream",
          "text": [
            "Training images:\n",
            "Found 750 images belonging to 10 classes.\n",
            "Testing images:\n",
            "Found 2500 images belonging to 10 classes.\n"
          ]
        }
      ],
      "source": [
        "# Thiết lập đầu vào dữ liệu\n",
        "from tensorflow.keras.preprocessing.image import ImageDataGenerator\n",
        "\n",
        "IMAGE_SHAPE = (224, 224)\n",
        "BATCH_SIZE = 32\n",
        "\n",
        "train_dir = \"10_food_classes_10_percent/train/\"\n",
        "test_dir = \"10_food_classes_10_percent/test/\"\n",
        "\n",
        "train_datagen = ImageDataGenerator(rescale=1/255.)\n",
        "test_datagen = ImageDataGenerator(rescale=1/255.)\n",
        "\n",
        "print(\"Training images:\")\n",
        "train_data_10_percent = train_datagen.flow_from_directory(train_dir,\n",
        "                                               target_size=IMAGE_SHAPE,\n",
        "                                               batch_size=BATCH_SIZE,\n",
        "                                               class_mode=\"categorical\")\n",
        "\n",
        "print(\"Testing images:\")\n",
        "test_data = train_datagen.flow_from_directory(test_dir,\n",
        "                                              target_size=IMAGE_SHAPE,\n",
        "                                              batch_size=BATCH_SIZE,\n",
        "                                              class_mode=\"categorical\")"
      ]
    },
    {
      "cell_type": "markdown",
      "metadata": {
        "id": "6QWuVeSvQPoK"
      },
      "source": [
        "Xuất sắc! Chúng ta thấy 750 ảnh trong tập huấn luyện thuộc về 10 lớp (75 ảnh mỗi lớp) và 2500 ảnh trong tập kiểm tra thuộc về 10 lớp (250 ảnh mỗi lớp)."
      ]
    },
    {
      "cell_type": "markdown",
      "metadata": {
        "id": "6Qcwii2uYjOx"
      },
      "source": [
        "## Thiết lập callback (những thứ chạy trong khi mô hình huấn luyện)\n",
        "\n",
        "Trước khi xây dựng mô hình, chúng ta sẽ làm quen với một khái niệm quan trọng vì nó đóng vai trò chính trong các thử nghiệm xây dựng mô hình tương lai.\n",
        "\n",
        "Đó là **callback**.\n",
        "\n",
        "[Callback](https://www.tensorflow.org/api_docs/python/tf/keras/callbacks) là chức năng bổ sung mà chúng ta có thể thêm vào mô hình để thực hiện trong khi hoặc sau khi huấn luyện. Một số callback phổ biến nhất gồm:\n",
        "* [**Theo dõi thử nghiệm với TensorBoard**](https://www.tensorflow.org/api_docs/python/tf/keras/callbacks/TensorBoard) - ghi lại chất lượng của nhiều mô hình rồi xem và so sánh các mô hình này theo cách trực quan trên [TensorBoard](https://www.tensorflow.org/tensorboard) (dashboard cho việc kiểm tra các tham số mạng nơ-ron). Hữu ích khi so sánh kết quả của các mô hình khác nhau trên dữ liệu.\n",
        "* [**Model checkpointing**](https://www.tensorflow.org/api_docs/python/tf/keras/callbacks/ModelCheckpoint) - lưu mô hình khi nó huấn luyện do đó chúng ta có thể dừng huấn luyện nếu cần và quay lại để tiếp tục phần đang dang dở. Hữu ích nếu huấn luyện tốn nhiều thời gian và không thể hoàn thành trong một lần thực hiện.\n",
        "* [**Early stopping**](https://www.tensorflow.org/api_docs/python/tf/keras/callbacks/EarlyStopping) - cho quá trình huấn luyện một khoảng thời gian bất kỳ và tự động ngừng huấn luyện khi nó không cải thiện nữa. Hữu ích khi có tập dữ liệu lớn và không biết quá trình huấn luyện kéo dài bao lâu.\n",
        "\n",
        "Chúng ta sẽ khám phá từng thứ một nhưng trong notebook này, chúng ta sẽ xem cách sử dụng TensorBoard callback.\n",
        "\n",
        "Có thể truy cập TensorBoard callback bằng [`tf.keras.callbacks.TensorBoard()`](https://www.tensorflow.org/api_docs/python/tf/keras/callbacks/TensorBoard). \n",
        "\n",
        "Chức năng chính của nó là lưu phép đo chất lượng huấn luyện mô hình vào `log_dir` đã chỉ định.\n",
        "\n",
        "Theo mặc định, log được ghi lại mỗi epoch với tham số `update_freq='epoch'`, đây là một mặc định tốt vì việc theo dõi chất lượng mô hình quá thường xuyên có thể làm chậm quá trình huấn luyện mô hình.\n",
        "\n",
        "Hãy tạo một hàm tạo ra TensorBoard callback để theo dõi thử nghiệm lập mô hình với TensorBoard.\n",
        "\n",
        "> 🔑 **Lưu ý:** Chúng ta tạo một hàm để tạo TensorBoard callback vì như chúng ta sẽ thấy, mỗi mô hình cần TensorBoard callback instance riêng (để hàm sẽ tạo ra một instance mới mỗi lần nó chạy).\n",
        "\n"
      ]
    },
    {
      "cell_type": "code",
      "execution_count": 2,
      "metadata": {
        "id": "2yamhJ8xJA5x"
      },
      "outputs": [],
      "source": [
        "# Tạo tensorboard callback (được tạo hàm do cần tạo mới mỗi mô hình) \n",
        "import datetime\n",
        "def create_tensorboard_callback(dir_name, experiment_name):\n",
        "  log_dir = dir_name + \"/\" + experiment_name + \"/\" + datetime.datetime.now().strftime(\"%Y%m%d-%H%M%S\")\n",
        "  tensorboard_callback = tf.keras.callbacks.TensorBoard(\n",
        "      log_dir=log_dir\n",
        "  )\n",
        "  print(f\"Saving TensorBoard log files to: {log_dir}\")\n",
        "  return tensorboard_callback"
      ]
    },
    {
      "cell_type": "markdown",
      "metadata": {
        "id": "11TjBJQXdCyZ"
      },
      "source": [
        "Do chúng ta có thể sẽ chạy nhiều thử nghiệm nên hãy theo dõi chúng theo một số cách.\n",
        "\n",
        "Trong tường hợp này, các hàm sẽ lưu nhật ký chất lượng của mô hình vào một directory có tên `[dir_name]/[experiment_name]/[current_timestamp]`, trong đó:\n",
        "* `dir_name` là directory nhật ký tổng quát\n",
        "* `experiment_name` là experiment cụ thể\n",
        "* `current_timestamp` là thời điểm experiment bắt đầu theo [`datetime.datetime().now()`](https://docs.python.org/3/library/datetime.html#datetime.datetime.now) của Python\n",
        "\n",
        "> 🔑 **Lưu ý:** Tùy thuộc vào từng trường hợp, phương pháp đặt tên theo theo dõi thử nghiệm có thể hoạt động hoặc bạn có thể yêu cầu một số thứ cụ thể hơn. Tin tốt là TensorBoard callback giúp bạn dễ dàng theo dõi log miễn là bạn chỉ định vị trí để theo dõi chúng. Do đó, bạn có thể sáng tạo tùy ý với cách đặt tên experiment, chỉ cần đảm bảo bạn hoặc team của bạn hiểu được.\n",
        "\n"
      ]
    },
    {
      "cell_type": "markdown",
      "metadata": {
        "id": "8UP8vA_nYoI7"
      },
      "source": [
        "## Tạo mô hình với TensorFlow Hub\n",
        "\n",
        "Chúng ta đã từng dùng TensorFlow để tạo mô hình từng layer của riêng mình từ đầu.\n",
        "\n",
        "Bây giờ chúng ta sẽ thực hiện quá trình tương tự, trừ việc phần lớn các layer của mô hình đến từ [TensorFlow Hub](https://tfhub.dev/).\n",
        "\n",
        "Thực tế, chúng ta sẽ sử dụng 2 mô hình từ TensorFlow Hub:\n",
        "1. [ResNetV2](https://arxiv.org/abs/1603.05027) -  kiến trúc mô hình thị giác máy tính state of the art (SOTA) từ 2016.\n",
        "2. [EfficientNet](https://arxiv.org/abs/1905.11946) - kiến trúc mô hình thị giác máy tính SOTA từ 2019.\n",
        "\n",
        "State of the art (SOTA) nghĩa là ở một số thời điểm, cả hai mô hình này có tỷ lệ lỗi thấp nhất trên [ImageNet (ILSVRC-2012-CLS)](http://www.image-net.org/), tiêu chuẩn vàng của đánh giá xếp hạng máy tính.\n",
        "\n",
        "Có thể các bạn đang thắc mắc làm thế nào để tìm các mô hình này trên TensorFlow Hub?\n",
        "\n",
        "Here are the steps I took: Dưới đây là một số bước mà tôi thực hiện:\n",
        "\n",
        "1. Tới [tfhub.dev](https://tfhub.dev/).\n",
        "2. Chọn Problem domain, chẳng hạn \"Image\" (chúng ta đang sử dụng food image).\n",
        "3. Chọn phiên bản TF, trong trường hợp này là TF2.\n",
        "4. \n",
        "Loại bỏ tất cả các bộ lọc \"Problem domain\" trừ bài toán mà bạn đang giải quyết.\n",
        "  * **Lưu ý:** \"Image feature vector\" có thể sử dụng cùng với hầu hết bất kỳ bài toán nào, chúng ta sẽ thấy điều này sau.\n",
        "5. Các mô hình đã liệt kê là tất cả những mô hình có thể sử dụng cho bài toán của bạn.\n",
        "\n",
        "> 🤔 **Câu hỏi:** *Tôi thấy nhiều lựa chọn cho các mô hình phân loại hình ảnh, làm thế nào để biết lựa chọn nào tốt nhất?* \n",
        "\n",
        "Chúng ta sẽ thấy danh sách các mô hình SOTA trên [paperswithcode.com](https://www.paperswithcode.com), đây là một nguồn thu thập các kết quả báo cáo mới nhất về deep learning, có triển khai code cho các phát hiện trong báo cáo.\n",
        "\n",
        "Vì chúng ta đang hoạt động với ảnh nên mục tiêu của chúng ta là [mô hình hoạt động tốt nhất trên ImageNet](https://paperswithcode.com/sota/image-classification-on-imagenet). \n",
        "\n",
        "Có thể các bạn sẽ không tìm thấy tất cả kiến trúc mô hình đã liệt kê trong paperswithcode xuất hiện trên TensorFlow Hub. Không sao cả, chúng ta vẫn có thể dùng những thứ sẵn có.\n",
        "\n",
        "Hãy thu hẹp tìm kiếm với tab Architecture để tìm mô hình.\n",
        "\n",
        "6. Chọn tab Architecture trên TensorFlow Hub, bạn sẽ thấy menu thả xuống có các tên kiến trúc.\n",
        "  * Quy tắc ở đây là tên có số lớn hơn là nhũng mô hình hoạt động tốt hơn, chẳng hạn: EfficientNetB4 hoạt động tốt hơn EfficientNetB0.\n",
        "    * Tuy nhiên, đánh đổi với số lớn hơn nghĩa là chúng tốn nhiều thời gian hơn để tính.\n",
        "7. Chọn EfficientNetB0 và bạn sẽ thấy [một số thứ như sau](https://tfhub.dev/s?module-type=image-classification,image-feature-vector&network-architecture=efficientnet-b0&tf-version=tf2):\n",
        "![](https://raw.githubusercontent.com/mrdbourke/tensorflow-deep-learning/main/images/04-tensorflow-hub-efficientnetb0.png)\n",
        "8. Chọn cái có tiêu đề \"[efficientnet/b0/feature-vector](https://tfhub.dev/tensorflow/efficientnet/b0/feature-vector/1)\" sẽ đưa chúng ta tới trang có button \"Copy URL\". Chúng ta có thể dùng URL này để khai thác khả năng của EfficientNetB0.\n",
        "  * Copy URL sẽ được: https://tfhub.dev/tensorflow/efficientnet/b0/feature-vector/1\n",
        "\n",
        "> 🤔 **Câu hỏi:** *Tôi nghĩ rằng chúng ta đang phân loại hình ảnh, tại sao chúng ta lại chọn feature vector mà không chọn classification?* \n",
        "\n",
        "Quan sát tốt đấy! Đây là lúc mà các loại transfer learning khác phát huy tác dụng, đó là feature extraction (trích xuất đặc trưng) và fine-tuning (tinh chỉnh).\n",
        "\n",
        "1. **\"As is\" transfer learning** là khi bạn lấy pretrained model và áp dụng vào nhiệm vụ của mình mà không thay đổi bất kỳ điều gì.\n",
        "\n",
        "  * Ví dụ: nhiều mô hình computer vision được huấn luyện trước trên tập dữ liệu ImageNet chứa 100 lớp ảnh khác nhau, tức là truyền một ảnh đơn giản vào mô hình này sẽ tạo ra 100 giá trị xác suất dự đoán (1 cho mỗi lớp).\n",
        "\n",
        "    * Điều này hữu ích nếu có 100 lớp ảnh cần phân loại và chúng đều giống với lớp ImageNet; tuy nhiên, nếu chúng ta chỉ muốn phân loại một tập hợp con các lớp (chẳng hạn như 10 loại thức ăn khác nhau) thì nó lại không giúp ích gì. Mô hình có `\"/classification\"` trong tên trên TensorFlow Hub cung cấp loại chức năng này.\n",
        "\n",
        "2. **Feature extraction transfer learning** là khi bạn lấy các pattern cơ bản (hay còn gọi là trọng số) mà pretrained model tìm hiểu được và điều chỉnh các đầu ra của nó để phù hợp hơn với bài toán.\n",
        "\n",
        "  * Ví dụ: giả sử pretrained model mà chúng ta đang dùng có 236 layer khác nhau (EfficientNetB0 có 236 layer), nhưng layer trên cùng xuất 1000 lớp vì nó đã được huấn luyện trên ImageNet. Để điều chỉnh nó cho bài toán của bạn, có thể loại layer kích hoạt ban đầu và thay thế nó bằng layer của bạn nhưng với số lớp đầu ra thích hợp. Phần quan trọng ở đây là **chỉ những layer ở trên cùng mới có thể huấn luyện, những layer còn lại bị đóng băng**.\n",
        "\n",
        "    * Theo cách này, tất cả các pattern cơ bản vẫn nằm ở các layer còn lại và có thể dùng chúng cho bài toán của riêng bạn. Loại transfer learning này rất hữu ích khi dữ liệu của bạn tương tự với dữ liệu mà mô hình đã được huấn luyện trước.\n",
        "\n",
        "3. **Fine-tuning transfer learning** là khi bạn lấy các pattern cơ bản (còn gọi là trọng số) của pretrained model và điều chỉnh (fine-tune) chúng với bài toán của mình.\n",
        "\n",
        "    * Điều này thường có nghĩa là huấn luyện **một số, nhiều hoặc toàn bộ** layer trong pretrained model. Nó hữu ích khi có tập dữ liệu lớn (chẳng hạn trên 100 ảnh mỗi lớp) trong đó dữ liệu của bạn khá khác so với dữ liệu mà mô hình ban đầu huấn luyện.\n",
        "\n",
        "Quy trình phổ biến là \"đóng băng\" tất cả các pattern đã tìm hiểu ở các layer dưới cùng của pretrained model để chúng có thể huấn luyện được, sau đó huấn luyện 2-3 layer trên cùng để pretrained model có thể điều chỉnh đầu ra của nó với dữ liệu tùy chỉnh của bạn (**feature extraction**).\n",
        "\n",
        "Sau khi đã huấn luyện 2-3 layer trên cùng, chúng ta có thể dần \"giải phóng\" nhiều layer hơn và tiến hành quá trình huấn luyện trên dữ liệu của riêng bạn để **tinh chỉnh** thêm pretrained model.\n",
        "\n",
        "> 🤔 **Câu hỏi:** *Tại sao chỉ huấn luyện 2-3 layer trong feature extraction?* \n",
        "\n",
        "Trong mô hình thị giác máy tính, layer càng thấp, càng gần với layer đầu vào thì các đặc trưng mà nó học được càng lớn. Ví dụ: layer dưới cùng trong mô hình thị giác máy tính xác định ảnh mèo và chó có thể học được đường nét của chân, trong đó các layer gần với đầu ra hơn sẽ học được shape của răng. Chúng ta thường muốn giữ nguyên các đặc trưng lớn hơn (các pattern học được cũng gọi là đặc trưng) vì các đặc trưng này của 2 loại động vật giống nhau, khác biệt nằm ở các đặc trưng chi tiết hơn.\n",
        "\n",
        "![](https://raw.githubusercontent.com/mrdbourke/tensorflow-deep-learning/main/images/04-different-kinds-of-transfer-learning.png)\n",
        "*Các loại transfer learning khác nhau: mô hình ban đầu, mô hình feature extraction (chỉ thay đổi 2-3 layer trên cùng) và mô hình fine-tuning (thay đổi nhiều hoặc tất cả layer của mô hình ban đầu).* \n",
        "\n",
        "Hãy xem cách thực hiện điều này, giải thích những gì đang xảy ra.\n",
        "\n",
        "Trước tiên, chúng ta sẽ import TensorFlow và TensorFlow Hub. "
      ]
    },
    {
      "cell_type": "code",
      "execution_count": 3,
      "metadata": {},
      "outputs": [
        {
          "name": "stdout",
          "output_type": "stream",
          "text": [
            "Collecting package metadata (current_repodata.json): - \b\b\\ \b\b| \b\b/ \b\b- \b\bdone\r\n",
            "Solving environment: | \b\b/ \b\b- \b\b\\ \b\b| \b\b/ \b\b- \b\b\\ \b\b| \b\b/ \b\b- \b\b\\ \b\b| \b\b/ \b\b- \b\b\\ \b\b| \b\b/ \b\b- \b\b\\ \b\b| \b\b/ \b\b- \b\b\\ \b\b| \b\b/ \b\b- \b\b\\ \b\b| \b\b/ \b\b- \b\b\\ \b\b| \b\b/ \b\b- \b\b\\ \b\b| \b\b/ \b\b- \b\b\\ \b\b| \b\b/ \b\b- \b\b\\ \b\b| \b\b/ \b\b- \b\b\\ \b\b| \b\b/ \b\b- \b\b\\ \b\b| \b\b/ \b\b- \b\b\\ \b\b| \b\b/ \b\b- \b\b\\ \b\b| \b\b/ \b\b- \b\b\\ \b\b| \b\b/ \b\b- \b\b\\ \b\b| \b\b/ \b\b- \b\b\\ \b\b| \b\b/ \b\b- \b\b\\ \b\b| \b\b/ \b\b- \b\b\\ \b\b| \b\b/ \b\b- \b\bfailed with initial frozen solve. Retrying with flexible solve.\r\n",
            "Solving environment: | \b\b/ \b\b- \b\b\\ \b\b| \b\b/ \b\b- \b\b\\ \b\b| \b\b/ \b\b- \b\b\\ \b\b| \b\b/ \b\b- \b\b\\ \b\b| \b\b/ \b\b- \b\b\\ \b\b| \b\b/ \b\b- \b\b\\ \b\b| \b\b/ \b\b- \b\b\\ \b\b| \b\b/ \b\b- \b\b\\ \b\b| \b\b/ \b\b- \b\b\\ \b\b| \b\b/ \b\b- \b\b\\ \b\b| \b\b/ \b\b- \b\b\\ \b\b| \b\b/ \b\b- \b\b\\ \b\b| \b\b/ \b\b- \b\b\\ \b\b| \b\b/ \b\b- \b\b\\ \b\b| \b\b/ \b\b- \b\b\\ \b\b| \b\b/ \b\b- \b\b\\ \b\b| \b\b/ \b\b- \b\b\\ \b\b| \b\b/ \b\b- \b\b\\ \b\b| \b\b/ \b\b- \b\b\\ \b\b| \b\b/ \b\b- \b\b\\ \b\b| \b\b/ \b\b- \b\b\\ \b\b| \b\b/ \b\b- \b\b\\ \b\b| \b\b/ \b\b- \b\b\\ \b\b| \b\b/ \b\b- \b\b\\ \b\bfailed with repodata from current_repodata.json, will retry with next repodata source.\r\n",
            "Collecting package metadata (repodata.json): / \b\b- \b\b\\ \b\b| \b\b/ \b\b- \b\b\\ \b\b| \b\b/ \b\b- \b\b\\ \b\b| \b\b/ \b\b- \b\b\\ \b\bdone\r\n",
            "Solving environment: / \b\b- \b\b\\ \b\b| \b\b/ \b\b- \b\b\\ \b\b| \b\b/ \b\b- \b\b\\ \b\b| \b\b/ \b\b- \b\b\\ \b\b| \b\b/ \b\b- \b\b\\ \b\b| \b\b/ \b\b- \b\b\\ \b\b| \b\b/ \b\b- \b\b\\ \b\b| \b\b/ \b\b- \b\b\\ \b\b| \b\b/ \b\b- \b\b\\ \b\b| \b\b/ \b\b- \b\b\\ \b\b| \b\b/ \b\b- \b\b\\ \b\b| \b\b/ \b\b- \b\b\\ \b\b| \b\b/ \b\b- \b\b\\ \b\b| \b\b/ \b\b- \b\b\\ \b\b| \b\b/ \b\b- \b\b\\ \b\b| \b\b/ \b\b- \b\b\\ \b\b| \b\b/ \b\b- \b\b\\ \b\b| \b\b/ \b\b- \b\b\\ \b\b| \b\b/ \b\b- \b\b\\ \b\b| \b\b/ \b\b- \b\b\\ \b\b| \b\b/ \b\b- \b\b\\ \b\b| \b\b/ \b\b- \b\b\\ \b\b| \b\b/ \b\b- \b\b\\ \b\b| \b\b/ \b\b- \b\b\\ \b\b| \b\b/ \b\b- \b\b\\ \b\b| \b\b/ \b\b- \b\b\\ \b\b| \b\b/ \b\b- \b\b\\ \b\b| \b\b/ \b\b- \b\b\\ \b\b| \b\b/ \b\b- \b\b\\ \b\b| \b\b/ \b\b- \b\b\\ \b\b| \b\b/ \b\b- \b\b\\ \b\b| \b\b/ \b\b- \b\b\\ \b\b| \b\b/ \b\b- \b\b\\ \b\b| \b\b/ \b\b- \b\b\\ \b\b| \b\b/ \b\b- \b\b\\ \b\b| \b\b/ \b\b- \b\b\\ \b\b| \b\b/ \b\b- \b\b\\ \b\b| \b\b/ \b\b- \b\b\\ \b\b| \b\b/ \b\b- \b\b\\ \b\b| \b\b/ \b\b- \b\b\\ \b\b| \b\b/ \b\b- \b\b\\ \b\b| \b\b/ \b\b- \b\b\\ \b\b| \b\b/ \b\b- \b\b\\ \b\b| \b\b/ \b\b- \b\b\\ \b\b| \b\b/ \b\b- \b\b\\ \b\b| \b\b/ \b\b- \b\b\\ \b\b| \b\b/ \b\b- \b\b\\ \b\b| \b\b/ \b\b- \b\b\\ \b\b| \b\b/ \b\b- \b\b\\ \b\b| \b\b/ \b\b- \b\bdone\r\n",
            "\r\n",
            "## Package Plan ##\r\n",
            "\r\n",
            "  environment location: /Users/ngohongthai/Documents/projects/tensorflow-env/env\r\n",
            "\r\n",
            "  added / updated specs:\r\n",
            "    - tensorflow-hub\r\n",
            "\r\n",
            "\r\n",
            "The following packages will be downloaded:\r\n",
            "\r\n",
            "    package                    |            build\r\n",
            "    ---------------------------|-----------------\r\n",
            "    aiohttp-3.8.3              |   py38hb991d35_0         417 KB  conda-forge\r\n",
            "    brotlipy-0.7.0             |py38h33210d7_1004         341 KB  conda-forge\r\n",
            "    cryptography-38.0.2        |   py38h5eb7249_0         1.2 MB  conda-forge\r\n",
            "    frozenlist-1.3.1           |   py38hbe6f924_0          41 KB  conda-forge\r\n",
            "    grpc-cpp-1.45.2            |       h42cd831_3         3.3 MB  conda-forge\r\n",
            "    grpcio-1.45.0              |   py38hcb8a1bf_0         2.2 MB  conda-forge\r\n",
            "    multidict-6.0.2            |   py38h33210d7_1          46 KB  conda-forge\r\n",
            "    protobuf-3.20.1            |   py38h396b780_0         304 KB  conda-forge\r\n",
            "    python-3.8.13              |h7e095e3_0_cpython        12.3 MB  conda-forge\r\n",
            "    re2-2022.04.01             |       h6b3803e_0         187 KB  conda-forge\r\n",
            "    sqlite-3.38.5              |       h40dfcc0_0         1.6 MB  conda-forge\r\n",
            "    tensorboard-data-server-0.6.0|   py38h7f91714_2         2.2 MB  conda-forge\r\n",
            "    tensorflow-2.8.1           |cpu_py38h4487131_0          26 KB  conda-forge\r\n",
            "    tensorflow-base-2.8.1      |cpu_py38hd48fb59_0       157.8 MB  conda-forge\r\n",
            "    tensorflow-estimator-2.8.1 |cpu_py38h888fe13_0         653 KB  conda-forge\r\n",
            "    wrapt-1.14.1               |   py38he5c2ac2_0          47 KB  conda-forge\r\n",
            "    yarl-1.7.2                 |   py38h33210d7_2         127 KB  conda-forge\r\n",
            "    ------------------------------------------------------------\r\n",
            "                                           Total:       182.8 MB\r\n",
            "\r\n",
            "The following NEW packages will be INSTALLED:\r\n",
            "\r\n",
            "  abseil-cpp         conda-forge/osx-arm64::abseil-cpp-20210324.2-hbdafb3b_0 None\r\n",
            "  absl-py            conda-forge/noarch::absl-py-1.3.0-pyhd8ed1ab_0 None\r\n",
            "  aiohttp            conda-forge/osx-arm64::aiohttp-3.8.3-py38hb991d35_0 None\r\n",
            "  aiosignal          conda-forge/noarch::aiosignal-1.2.0-pyhd8ed1ab_0 None\r\n",
            "  astunparse         conda-forge/noarch::astunparse-1.6.3-pyhd8ed1ab_0 None\r\n",
            "  async-timeout      conda-forge/noarch::async-timeout-4.0.2-pyhd8ed1ab_0 None\r\n",
            "  blinker            conda-forge/noarch::blinker-1.5-pyhd8ed1ab_0 None\r\n",
            "  brotlipy           conda-forge/osx-arm64::brotlipy-0.7.0-py38h33210d7_1004 None\r\n",
            "  cachetools         conda-forge/noarch::cachetools-5.2.0-pyhd8ed1ab_0 None\r\n",
            "  charset-normalizer conda-forge/noarch::charset-normalizer-2.1.1-pyhd8ed1ab_0 None\r\n",
            "  cryptography       conda-forge/osx-arm64::cryptography-38.0.2-py38h5eb7249_0 None\r\n",
            "  frozenlist         conda-forge/osx-arm64::frozenlist-1.3.1-py38hbe6f924_0 None\r\n",
            "  gast               conda-forge/noarch::gast-0.5.3-pyhd8ed1ab_0 None\r\n",
            "  google-auth        conda-forge/noarch::google-auth-2.12.0-pyh1a96a4e_0 None\r\n",
            "  google-auth-oauth~ conda-forge/noarch::google-auth-oauthlib-0.4.6-pyhd8ed1ab_0 None\r\n",
            "  google-pasta       conda-forge/noarch::google-pasta-0.2.0-pyh8c360ce_0 None\r\n",
            "  grpc-cpp           conda-forge/osx-arm64::grpc-cpp-1.45.2-h42cd831_3 None\r\n",
            "  idna               conda-forge/noarch::idna-3.4-pyhd8ed1ab_0 None\r\n",
            "  keras              conda-forge/noarch::keras-2.8.0-pyhd8ed1ab_0 None\r\n",
            "  keras-preprocessi~ conda-forge/noarch::keras-preprocessing-1.1.2-pyhd8ed1ab_0 None\r\n",
            "  markdown           conda-forge/noarch::markdown-3.4.1-pyhd8ed1ab_0 None\r\n",
            "  multidict          conda-forge/osx-arm64::multidict-6.0.2-py38h33210d7_1 None\r\n",
            "  oauthlib           conda-forge/noarch::oauthlib-3.2.1-pyhd8ed1ab_0 None\r\n",
            "  opt_einsum         conda-forge/noarch::opt_einsum-3.3.0-pyhd8ed1ab_1 None\r\n",
            "  protobuf           conda-forge/osx-arm64::protobuf-3.20.1-py38h396b780_0 None\r\n",
            "  pyasn1             conda-forge/noarch::pyasn1-0.4.8-py_0 None\r\n",
            "  pyasn1-modules     conda-forge/noarch::pyasn1-modules-0.2.7-py_0 None\r\n",
            "  pyjwt              conda-forge/noarch::pyjwt-2.5.0-pyhd8ed1ab_0 None\r\n",
            "  pyopenssl          conda-forge/noarch::pyopenssl-22.1.0-pyhd8ed1ab_0 None\r\n",
            "  pysocks            conda-forge/noarch::pysocks-1.7.1-pyha2e5f31_6 None\r\n",
            "  python-flatbuffers conda-forge/noarch::python-flatbuffers-2.0-pyhd8ed1ab_0 None\r\n",
            "  pyu2f              conda-forge/noarch::pyu2f-0.1.5-pyhd8ed1ab_0 None\r\n",
            "  re2                conda-forge/osx-arm64::re2-2022.04.01-h6b3803e_0 None\r\n",
            "  requests           conda-forge/noarch::requests-2.28.1-pyhd8ed1ab_1 None\r\n",
            "  requests-oauthlib  conda-forge/noarch::requests-oauthlib-1.3.1-pyhd8ed1ab_0 None\r\n",
            "  rsa                conda-forge/noarch::rsa-4.9-pyhd8ed1ab_0 None\r\n",
            "  snappy             conda-forge/osx-arm64::snappy-1.1.9-h39c3846_1 None\r\n",
            "  tensorboard        conda-forge/noarch::tensorboard-2.8.0-pyhd8ed1ab_1 None\r\n",
            "  tensorboard-data-~ conda-forge/osx-arm64::tensorboard-data-server-0.6.0-py38h7f91714_2 None\r\n",
            "  tensorboard-plugi~ conda-forge/noarch::tensorboard-plugin-wit-1.8.1-pyhd8ed1ab_0 None\r\n",
            "  tensorflow         conda-forge/osx-arm64::tensorflow-2.8.1-cpu_py38h4487131_0 None\r\n",
            "  tensorflow-base    conda-forge/osx-arm64::tensorflow-base-2.8.1-cpu_py38hd48fb59_0 None\r\n",
            "  tensorflow-estima~ conda-forge/osx-arm64::tensorflow-estimator-2.8.1-cpu_py38h888fe13_0 None\r\n",
            "  tensorflow-hub     conda-forge/noarch::tensorflow-hub-0.12.0-pyhca92ed8_0 None\r\n",
            "  termcolor          conda-forge/noarch::termcolor-2.0.1-pyhd8ed1ab_1 None\r\n",
            "  typing-extensions  conda-forge/noarch::typing-extensions-4.4.0-hd8ed1ab_0 None\r\n",
            "  typing_extensions  conda-forge/noarch::typing_extensions-4.4.0-pyha770c72_0 None\r\n",
            "  urllib3            conda-forge/noarch::urllib3-1.26.11-pyhd8ed1ab_0 None\r\n",
            "  werkzeug           conda-forge/noarch::werkzeug-2.2.2-pyhd8ed1ab_0 None\r\n",
            "  wrapt              conda-forge/osx-arm64::wrapt-1.14.1-py38he5c2ac2_0 None\r\n",
            "  yarl               conda-forge/osx-arm64::yarl-1.7.2-py38h33210d7_2 None\r\n",
            "\r\n",
            "The following packages will be UPDATED:\r\n",
            "\r\n",
            "  ca-certificates                      2022.6.15-h4653dfc_0 --> 2022.9.24-h4653dfc_0 None\r\n",
            "  certifi            conda-forge/osx-arm64::certifi-2022.6~ --> conda-forge/noarch::certifi-2022.9.24-pyhd8ed1ab_0 None\r\n",
            "  libcurl                                 7.82.0-h9476f53_0 --> 7.83.1-h2fcd78c_0 None\r\n",
            "  sqlite                                  3.37.1-h7e3ccbd_0 --> 3.38.5-h40dfcc0_0 None\r\n",
            "\r\n",
            "The following packages will be DOWNGRADED:\r\n",
            "\r\n",
            "  grpcio                              1.45.0-py38hdbc235a_0 --> 1.45.0-py38hcb8a1bf_0 None\r\n",
            "  hdf5                            1.12.1-nompi_hd9dbc9e_104 --> 1.12.1-nompi_hf9525e8_104 None\r\n",
            "  krb5                                    1.19.3-he492e65_0 --> 1.19.3-hf9b2bbe_0 None\r\n",
            "  libnghttp2                              1.47.0-hf30690b_0 --> 1.47.0-he723fca_0 None\r\n",
            "  libssh2                                 1.10.0-h7a5bd25_2 --> 1.10.0-hb80f160_2 None\r\n",
            "  openssl                                  3.0.5-h7aea29f_1 --> 1.1.1q-ha287fd2_0 None\r\n",
            "  python                          3.8.13-hd3575e6_0_cpython --> 3.8.13-h7e095e3_0_cpython None\r\n",
            "\r\n",
            "\r\n",
            "Proceed ([y]/n)? ^C\r\n",
            "\r\n",
            "CondaSystemExit: \r\n",
            "Operation aborted.  Exiting.\r\n",
            "\r\n"
          ]
        }
      ],
      "source": [
        "!conda install -c conda-forge tensorflow-hub"
      ]
    },
    {
      "cell_type": "code",
      "execution_count": 4,
      "metadata": {
        "id": "xsoE9nUJNN6s"
      },
      "outputs": [],
      "source": [
        "import tensorflow as tf\n",
        "import tensorflow_hub as hub\n",
        "from tensorflow.keras import layers"
      ]
    },
    {
      "cell_type": "markdown",
      "metadata": {
        "id": "nvGge7Xevt_F"
      },
      "source": [
        "Chúng ta đã có các feature vector URL của 2 kiến trúc thị giác máy tính phổ biến nhất: [EfficientNetB0 (2019)](https://tfhub.dev/tensorflow/efficientnet/b0/feature-vector/1) và [ResNetV250 (2016)](https://tfhub.dev/google/imagenet/resnet_v2_50/feature_vector/4) từ TensorFlow Hub sử dụng các bước trên.\n",
        "\n",
        "Chúng ta sẽ lấy cả hai để so sánh xem cái nào hoạt động tốt hơn trên dữ liệu của chúng ta.\n",
        "\n",
        "> 🔑 **Lưu ý:** So sánh chất lượng kiến trúc mô hình khác nhau trên cùng một dữ liệu rất thường thấy, đơn giản là vì chúng ta muốn biết mô hình nào hoạt động tốt nhất cho bài toán. \n",
        "\n",
        "> **Cập nhật:** Kể từ 14/08/2021, [EfficientNet V2 pretrained models có trên TensorFlow Hub](https://tfhub.dev/google/collections/efficientnet_v2/1). Code ban đầu trong notebook này sử dụng EfficientNet V1, nó vẫn chưa thay đổi. Trong [các thử nghiệm của tôi với tập dữ liệu này](https://github.com/mrdbourke/tensorflow-deep-learning/discussions/166), V1 hoạt động tốt hơn V2. Tốt nhất bạn hãy thử nghiệm với dữ liệu của mình và xem cái nào thích hợp với bạn nhất."
      ]
    },
    {
      "cell_type": "code",
      "execution_count": 5,
      "metadata": {
        "id": "LZfUivHxOCbP"
      },
      "outputs": [],
      "source": [
        "# Resnet 50 V2 feature vector\n",
        "resnet_url = \"https://tfhub.dev/google/imagenet/resnet_v2_50/feature_vector/4\"\n",
        "\n",
        "# Ban đầu: EfficientNetB0 feature vector (ver 1)\n",
        "efficientnet_url = \"https://tfhub.dev/tensorflow/efficientnet/b0/feature-vector/1\"\n",
        "\n",
        "# # Mới: EfficientNetB0 feature vector (ver 2)\n",
        "# efficientnet_url = \"https://tfhub.dev/google/imagenet/efficientnet_v2_imagenet1k_b0/feature_vector/2\""
      ]
    },
    {
      "cell_type": "markdown",
      "metadata": {
        "id": "bdwjFaCRwdCX"
      },
      "source": [
        "Các URL này liên kết với một pretrained model đã lưu trên TensorFlow Hub.\n",
        "\n",
        "Khi sử dụng chúng trong mô hình của chúng ta, mô hình sẽ tự động download để chúng ta sử dụng.\n",
        "\n",
        "Để thực hiện, hãy dùng mô hình [`KerasLayer()`](https://www.tensorflow.org/hub/api_docs/python/hub/KerasLayer) bên trong thư viện TensorFlow hub.\n",
        "\n",
        "Do chúng ta sẽ so sánh 2 mô hình nên hãy tạo hàm `create_model()` để lưu code. Hàm này sẽ lấy một TensorFlow Hub URL của mô hình, khởi tạo mô hình tuần tự Keras với số lượng layer đầu ra thích hợp và trả về mô hình."
      ]
    },
    {
      "cell_type": "code",
      "execution_count": null,
      "metadata": {
        "id": "p7vXoqSjId0f"
      },
      "outputs": [],
      "source": [
        "def create_model(model_url, num_classes=10):\n",
        "  \"\"\"Lấy TensorFlow Hub URL và tạo mô hình tuần tự Keras với nó.\n",
        "  \n",
        "  Đối số:\n",
        "    model_url (str): TensorFlow Hub feature extraction URL.\n",
        "    num_classes (int): Số nơ-ron đầu ra trong layer đầu ra,\n",
        "       bằng số lớp mục tiêu, mặc định là 10.\n",
        "\n",
        "  Trả về:\n",
        "    Một mô hình tuần tự Keras chưa biên dịch với model_url là feature\n",
        "    extractor layer và Dense output layer với đầu ra num_classes.\n",
        "  \"\"\"\n",
        "  # Download pretrained model và lưu nó làm Keras layer\n",
        "  feature_extractor_layer = hub.KerasLayer(model_url,\n",
        "                                           trainable=False, # đóng băng các pattern cơ bản\n",
        "                                           name='feature_extraction_layer',\n",
        "                                           input_shape=IMAGE_SHAPE+(3,)) # xác định shape ảnh đầu ra\n",
        "  \n",
        "  # Tạo mô hình của riêng bạn\n",
        "  model = tf.keras.Sequential([\n",
        "    feature_extractor_layer, # sử dụng feature extraction layer làm layer cơ bản\n",
        "    layers.Dense(num_classes, activation='softmax', name='output_layer') # tạo layer đầu ra của bạn      \n",
        "  ])\n",
        "\n",
        "  return model"
      ]
    },
    {
      "cell_type": "markdown",
      "metadata": {
        "id": "IirF2Ohlz-6i"
      },
      "source": [
        "Tuyệt! Chúng ta đã có hàm tạo mô hình, hãy dùng nó để tạo mô hình sử dụng kiến trúc ResNetV250 làm feature extraction layer.\n",
        "\n",
        "Sau khi khởi tạo mô hình, chúng ta sẽ biên dịch nó với hàm mất mát `categorical_crossentropy`, thuật toán tối ưu Adam và phép đo accuracy."
      ]
    },
    {
      "cell_type": "code",
      "execution_count": null,
      "metadata": {
        "id": "-KVRwwbDT-HL"
      },
      "outputs": [],
      "source": [
        "# Tạo mô hình\n",
        "resnet_model = create_model(resnet_url, num_classes=train_data_10_percent.num_classes)\n",
        "\n",
        "# Biên dịch\n",
        "resnet_model.compile(loss='categorical_crossentropy',\n",
        "                     optimizer=tf.keras.optimizers.Adam(),\n",
        "                     metrics=['accuracy'])"
      ]
    },
    {
      "cell_type": "markdown",
      "metadata": {
        "id": "ZinVcxBi0jsv"
      },
      "source": [
        "![](https://raw.githubusercontent.com/mrdbourke/tensorflow-deep-learning/main/images/04-resnet-feature-extractor.png)\n",
        "*Mô hình hiện tại của chúng ta trông như vậy. ResNet50V2 là phần cơ bản nhất cùng với một dense layer tùy chỉnh ở trên cùng (10 lớp thay vì 100 lớp ImageNet). Hình hiển thị ResNet34 thay vì ResNet50. **Nguồn ảnh:** https://arxiv.org/abs/1512.03385.*  \n",
        "\n",
        "Đến lúc khớp mô hình rồi.\n",
        "\n",
        "Chúng ta đã sẵn sàng với dữ liệu huấn luyện trong `train_data_10_percent` và dữ liệu kiểm tra được lưu trong `test_data`.\n",
        "\n",
        "Nhưng trước khi gọi hàm khớp, cần thêm callback, cụ thể là TensorBoard callback để theo dõi chất lượng mô hình trong TensorBoard.\n",
        "\n",
        "Thêm callback vào mô hình với tham số `callbacks` trong hàm khớp.\n",
        "\n",
        "Trong trường hợp này, chúng ta sẽ truyền tham số `callbacks` vào `create_tensorboard_callback()` vừa tạo với một số đầu vào cụ thể để biết chúng ta đang chạy experiment nào.\n",
        "\n",
        "Hãy giữ experiment ngắn thôi và huấn luyện cho 5 epoch."
      ]
    },
    {
      "cell_type": "code",
      "execution_count": null,
      "metadata": {
        "colab": {
          "base_uri": "https://localhost:8080/"
        },
        "id": "2GTl0fwE0Hx6",
        "outputId": "4cf373f4-7143-45b0-ddfc-d1cb009e555a"
      },
      "outputs": [
        {
          "name": "stdout",
          "output_type": "stream",
          "text": [
            "Saving TensorBoard log files to: tensorflow_hub/resnet50V2/20210115-011336\n",
            "Epoch 1/5\n",
            "24/24 [==============================] - 29s 814ms/step - loss: 2.6383 - accuracy: 0.1690 - val_loss: 1.3164 - val_accuracy: 0.5852\n",
            "Epoch 2/5\n",
            "24/24 [==============================] - 17s 737ms/step - loss: 1.0979 - accuracy: 0.6683 - val_loss: 0.9081 - val_accuracy: 0.7124\n",
            "Epoch 3/5\n",
            "24/24 [==============================] - 17s 732ms/step - loss: 0.7306 - accuracy: 0.8073 - val_loss: 0.7874 - val_accuracy: 0.7500\n",
            "Epoch 4/5\n",
            "24/24 [==============================] - 17s 735ms/step - loss: 0.5689 - accuracy: 0.8540 - val_loss: 0.7224 - val_accuracy: 0.7640\n",
            "Epoch 5/5\n",
            "24/24 [==============================] - 17s 740ms/step - loss: 0.4724 - accuracy: 0.8913 - val_loss: 0.6969 - val_accuracy: 0.7744\n"
          ]
        }
      ],
      "source": [
        "# Khớp mô hình\n",
        "resnet_history = resnet_model.fit(train_data_10_percent,\n",
        "                                  epochs=5,\n",
        "                                  steps_per_epoch=len(train_data_10_percent),\n",
        "                                  validation_data=test_data,\n",
        "                                  validation_steps=len(test_data),\n",
        "                                  # Thêm TensorBoard callback vào mô hình (tham số callbacks lấy một danh sách)\n",
        "                                  callbacks=[create_tensorboard_callback(dir_name=\"tensorflow_hub\", # lưu nhật ký experiment log ở đây\n",
        "                                                                         experiment_name=\"resnet50V2\")]) # tên của file nhật ký"
      ]
    },
    {
      "cell_type": "markdown",
      "metadata": {
        "id": "i5SuOe672UJi"
      },
      "source": [
        "Có vẻ sau 5 epoch, mô hình feature extraction ResNetV250 có thể đánh bại bất kỳ kiến trúc nào, đạt được độ chính xác 909% trên tập huấn luyện và gần 80% trên tập kiểm tra...**chỉ với 10% ảnh huấn luyện!**\n",
        "\n",
        "Điều đó cho thấy khả năng của transfer learning. Đó là một trong các lý do chính mà chúng ta nên xem xét những pretrained model đã tồn tại bất cứ khi nào lập mô hình tập dữ liệu của riêng mình.\n",
        "\n",
        "Hãy kiểm tra training curve của mô hình với hàm `plot_loss_curves`."
      ]
    },
    {
      "cell_type": "code",
      "execution_count": null,
      "metadata": {
        "id": "Ot2QPj41ODCQ"
      },
      "outputs": [],
      "source": [
        "# Nếu muốn, bạn có thể biến nó thành hàm hỗ trợ để load với script helper.py\n",
        "import matplotlib.pyplot as plt\n",
        "\n",
        "# Vẽ biểu đồ dữ liệu huấn luyện và kiểm định một cách riêng biệt\n",
        "def plot_loss_curves(history):\n",
        "  \"\"\"\n",
        "  Trả về các loss curve riêng cho các phép đo huấn luyện và kiểm định.\n",
        "  \"\"\" \n",
        "  loss = history.history['loss']\n",
        "  val_loss = history.history['val_loss']\n",
        "\n",
        "  accuracy = history.history['accuracy']\n",
        "  val_accuracy = history.history['val_accuracy']\n",
        "\n",
        "  epochs = range(len(history.history['loss']))\n",
        "\n",
        "  # Vẽ loss\n",
        "  plt.plot(epochs, loss, label='training_loss')\n",
        "  plt.plot(epochs, val_loss, label='val_loss')\n",
        "  plt.title('Loss')\n",
        "  plt.xlabel('Epochs')\n",
        "  plt.legend()\n",
        "\n",
        "  # Vẽ accuracy\n",
        "  plt.figure()\n",
        "  plt.plot(epochs, accuracy, label='training_accuracy')\n",
        "  plt.plot(epochs, val_accuracy, label='val_accuracy')\n",
        "  plt.title('Accuracy')\n",
        "  plt.xlabel('Epochs')\n",
        "  plt.legend();"
      ]
    },
    {
      "cell_type": "code",
      "execution_count": null,
      "metadata": {
        "colab": {
          "base_uri": "https://localhost:8080/",
          "height": 573
        },
        "id": "ywQ9Wr9UODJ_",
        "outputId": "a225ebca-4308-4175-95e9-849c4bd21ab4"
      },
      "outputs": [
        {
          "data": {
            "image/png": "[encoded data removed]",
            "text/plain": [
              "<Figure size 432x288 with 1 Axes>"
            ]
          },
          "metadata": {
            "needs_background": "light",
            "tags": []
          },
          "output_type": "display_data"
        },
        {
          "data": {
            "image/png": "[encoded data removed]",
            "text/plain": [
              "<Figure size 432x288 with 1 Axes>"
            ]
          },
          "metadata": {
            "needs_background": "light",
            "tags": []
          },
          "output_type": "display_data"
        }
      ],
      "source": [
        "plot_loss_curves(resnet_history)"
      ]
    },
    {
      "cell_type": "markdown",
      "metadata": {
        "id": "5BGVFEIi3_CT"
      },
      "source": [
        "Vậy còn summary của mô hình?"
      ]
    },
    {
      "cell_type": "code",
      "execution_count": null,
      "metadata": {
        "colab": {
          "base_uri": "https://localhost:8080/"
        },
        "id": "aps1FV4qWrZb",
        "outputId": "306849a0-a3a2-4404-d046-eceb7186871f"
      },
      "outputs": [
        {
          "name": "stdout",
          "output_type": "stream",
          "text": [
            "Model: \"sequential\"\n",
            "_________________________________________________________________\n",
            "Layer (type)                 Output Shape              Param #   \n",
            "=================================================================\n",
            "feature_extraction_layer (Ke (None, 2048)              23564800  \n",
            "_________________________________________________________________\n",
            "output_layer (Dense)         (None, 10)                20490     \n",
            "=================================================================\n",
            "Total params: 23,585,290\n",
            "Trainable params: 20,490\n",
            "Non-trainable params: 23,564,800\n",
            "_________________________________________________________________\n"
          ]
        }
      ],
      "source": [
        "# Resnet summary \n",
        "resnet_model.summary()"
      ]
    },
    {
      "cell_type": "markdown",
      "metadata": {
        "id": "okdbmBA0SgCb"
      },
      "source": [
        "Các bạn có thể thấy khả năng của TensorFlow Hub ở đây. Feature extraction layer có 23,564,800 tham số là các pattern đã được tìm hiểu trước mà mô hình học trong tập dữ liệu ImageNet. Do chúng ta đã đặt `trainable=False` nên các pattern này vẫn đóng băng (không thể huấn luyện (trong quá trình huấn luyện).\n",
        "\n",
        "Điều này có nghĩa là trong quá trình huấn luyện, mô hình cập nhật 20,490 tham số ở layer đầu ra để tương thích với tập dữ liệu của chúng ta.\n",
        "Chúng ta đã huấn luyện mô hình ResNetV250, bây giờ hãy huấn luyện mô hình EfficientNetB0.\n",
        "\n",
        "Thiết lập sẽ giống hệt trước, trừ tham số `model_url` trong hàm `create_model()` và tham số `experiment_name` trong hàm `create_tensorboard_callback()`. "
      ]
    },
    {
      "cell_type": "code",
      "execution_count": null,
      "metadata": {
        "colab": {
          "base_uri": "https://localhost:8080/"
        },
        "id": "MrGi-CpMXHav",
        "outputId": "251ab535-7852-4e05-c356-dba75c37ba34"
      },
      "outputs": [
        {
          "name": "stdout",
          "output_type": "stream",
          "text": [
            "Saving TensorBoard log files to: tensorflow_hub/efficientnetB0/20210115-011549\n",
            "Epoch 1/5\n",
            "24/24 [==============================] - 27s 819ms/step - loss: 2.0594 - accuracy: 0.3025 - val_loss: 1.2756 - val_accuracy: 0.7524\n",
            "Epoch 2/5\n",
            "24/24 [==============================] - 16s 706ms/step - loss: 1.1388 - accuracy: 0.7528 - val_loss: 0.8559 - val_accuracy: 0.8328\n",
            "Epoch 3/5\n",
            "24/24 [==============================] - 16s 707ms/step - loss: 0.7618 - accuracy: 0.8380 - val_loss: 0.6862 - val_accuracy: 0.8496\n",
            "Epoch 4/5\n",
            "24/24 [==============================] - 16s 704ms/step - loss: 0.6424 - accuracy: 0.8662 - val_loss: 0.6034 - val_accuracy: 0.8616\n",
            "Epoch 5/5\n",
            "24/24 [==============================] - 16s 708ms/step - loss: 0.4856 - accuracy: 0.9102 - val_loss: 0.5512 - val_accuracy: 0.8668\n"
          ]
        }
      ],
      "source": [
        "# Tạo mô hình\n",
        "efficientnet_model = create_model(model_url=efficientnet_url, # sử dụng EfficientNetB0 TensorFlow Hub URL\n",
        "                                  num_classes=train_data_10_percent.num_classes)\n",
        "\n",
        "# Biên dịch mô hình EfficientNet\n",
        "efficientnet_model.compile(loss='categorical_crossentropy',\n",
        "                           optimizer=tf.keras.optimizers.Adam(),\n",
        "                           metrics=['accuracy'])\n",
        "\n",
        "# Khớp mô hình EfficientNet \n",
        "efficientnet_history = efficientnet_model.fit(train_data_10_percent, # chỉ dùng 10% dữ liệu huấn luyện\n",
        "                                              epochs=5, # huấn luyện 5 epoch\n",
        "                                              steps_per_epoch=len(train_data_10_percent),\n",
        "                                              validation_data=test_data,\n",
        "                                              validation_steps=len(test_data),\n",
        "                                              callbacks=[create_tensorboard_callback(dir_name=\"tensorflow_hub\", \n",
        "                                                                                     # Theo dõi nhật ký dưới các experiment name khác nhau\n",
        "                                                                                     experiment_name=\"efficientnetB0\")])"
      ]
    },
    {
      "cell_type": "markdown",
      "metadata": {
        "id": "iMbtls4C57Dr"
      },
      "source": [
        "Thật ngạc nhiên! Mô hình EfficientNetB0 thậm chí còn hoạt động tốt hơn so với mô hình ResNetV250! Đạt được trên 85% độ chính xác trên tập kiểm tra **chỉ với 10% dữ liệu huấn luyện**.\n",
        "\n",
        "Nó tuyệt vời thế nào?\n",
        "\n",
        "Chúng ta có thể tận dụng các mô hình tiên tiến và điều chỉnh thích hợp với trường hợp của mình chỉ với vài dòng code.\n",
        "\n",
        "Hãy kiểm tra loss curve."
      ]
    },
    {
      "cell_type": "code",
      "execution_count": null,
      "metadata": {
        "colab": {
          "base_uri": "https://localhost:8080/",
          "height": 573
        },
        "id": "8UzgNYFdODRB",
        "outputId": "24ffc097-9536-4ff7-f739-51bf2cf883a8"
      },
      "outputs": [
        {
          "data": {
            "image/png": "[encoded data removed]",
            "text/plain": [
              "<Figure size 432x288 with 1 Axes>"
            ]
          },
          "metadata": {
            "needs_background": "light",
            "tags": []
          },
          "output_type": "display_data"
        },
        {
          "data": {
            "image/png": "[encoded data removed]",
            "text/plain": [
              "<Figure size 432x288 with 1 Axes>"
            ]
          },
          "metadata": {
            "needs_background": "light",
            "tags": []
          },
          "output_type": "display_data"
        }
      ],
      "source": [
        "plot_loss_curves(efficientnet_history)"
      ]
    },
    {
      "cell_type": "markdown",
      "metadata": {
        "id": "pDi4i0H16tSa"
      },
      "source": [
        "Qua quan sát loss curve của mô hình EfficientNetB0, có vẻ như nó sẽ cải thiện tốt hơn nếu chúng ta tiếp tục huấn luyện lâu hơn. Có lẽ các bạn sẽ muốn thử?\n",
        "\n",
        "Hãy kiểm tra summary của mô hình."
      ]
    },
    {
      "cell_type": "code",
      "execution_count": null,
      "metadata": {
        "colab": {
          "base_uri": "https://localhost:8080/"
        },
        "id": "clJzUbKpODXA",
        "outputId": "3538504b-1cc9-4569-db9e-b191ea37d20f"
      },
      "outputs": [
        {
          "name": "stdout",
          "output_type": "stream",
          "text": [
            "Model: \"sequential_1\"\n",
            "_________________________________________________________________\n",
            "Layer (type)                 Output Shape              Param #   \n",
            "=================================================================\n",
            "feature_extraction_layer (Ke (None, 1280)              4049564   \n",
            "_________________________________________________________________\n",
            "output_layer (Dense)         (None, 10)                12810     \n",
            "=================================================================\n",
            "Total params: 4,062,374\n",
            "Trainable params: 12,810\n",
            "Non-trainable params: 4,049,564\n",
            "_________________________________________________________________\n"
          ]
        }
      ],
      "source": [
        "efficientnet_model.summary()"
      ]
    },
    {
      "cell_type": "markdown",
      "metadata": {
        "id": "KHTMjJG07ElO"
      },
      "source": [
        "Có vẻ như dù số lượng tham số ít hơn khoảng 4 lần (4,049,564 so với 23,564,800) so với ResNet50V2 extraction layer, EfficientNetB0 feature extraction layer vẫn đạt được chất lượng tốt hơn. Giờ chúng ta đã rõ \"efficient\" có nguồn gốc từ đâu."
      ]
    },
    {
      "cell_type": "markdown",
      "metadata": {
        "id": "YV_ZWKC8SkE_"
      },
      "source": [
        "## So sánh mô hình với TensorBoard\n",
        "\n",
        "Mặc dù chúng ta đã so sánh chất lượng của 2 mô hình bằng cách xem xét hệ số accuracy, vậy trong những trường hợp có nhiều hơn 2 mô hình thì sao?\n",
        "\n",
        "Lúc đó, công cụ theo dõi experiment như [TensorBoard](https://www.tensorflow.org/tensorboard) (đã cài trong Google Colab) có tác dụng.\n",
        "\n",
        "Do chúng ta đã thiết lập TensorBoard callback nên toàn bộ nhật ký huấn luyện sẽ được tự động lưu lại. Để hiển thị chúng, có thể upload kết quả lên [TensorBoard.dev](https://tensorboard.dev/).\n",
        "\n",
        "Việc upload kết quả của bạn lên TensorBoard.dev cho phép theo dõi và chia sẻ nhiều thử nghiệm lập mô hình khác nhau. Do đó nếu cần hiển thị kết quả cho ai đó, bạn có thể gửi họ liên kết tới TensorBoard.dev của mình và Colab notebook đi kèm.\n",
        "\n",
        "> 🔑 **Lưu ý:** Các experiment là công khai nên không upload dữ liệu nhạy cảm. Bạn có thể xóa experiment nếu muốn.\n",
        "\n",
        "### Upload experiment lên TensorBoard\n",
        "\n",
        "Để upload một chuỗi các TensorFlow log lên TensorBoard, chúng ta có thể dùng lệnh sau:\n",
        "\n",
        "```\n",
        "Upload TensorBoard dev records\n",
        "\n",
        "!tensorboard dev upload --logdir ./tensorflow_hub/ \\\n",
        "  --name \"EfficientNetB0 vs. ResNet50V2\" \\ \n",
        "  --description \"Comparing two different TF Hub feature extraction models architectures using 10% of training images\" \\ \n",
        "  --one_shot\n",
        "```\n",
        "\n",
        "Trong đó:\n",
        "* `--logdir` là directory upload đích\n",
        "* `--name` là tên của experiment\n",
        "* `--description` là mô tả ngắn gọn về experiment\n",
        "* `--one_shot` thoát khỏi TensorBoard uploader sau khi hoàn thành upload\n",
        "\n",
        "Việc chạy lệnh `tensorboard dev upload` trước tiên sẽ yêu cầu chúng ta cho phép upload lên TensorBoard.dev, sau đó các file log sẽ được upload lên."
      ]
    },
    {
      "cell_type": "code",
      "execution_count": null,
      "metadata": {
        "colab": {
          "base_uri": "https://localhost:8080/",
          "height": 258
        },
        "id": "tbKgWdIVNncW",
        "outputId": "e344cf7c-7064-484d-f31b-4079735dc921"
      },
      "outputs": [
        {
          "name": "stdout",
          "output_type": "stream",
          "text": [
            "2020-09-14 05:02:46.516878: I tensorflow/stream_executor/platform/default/dso_loader.cc:48] Successfully opened dynamic library libcudart.so.10.1\n",
            "Data for the \"graphs\" plugin is now uploaded to TensorBoard.dev! Note that uploaded data is public. If you do not want to upload data for this plugin, use the \"--plugins\" command line argument.\n",
            "Data for the \"histograms\" plugin is now uploaded to TensorBoard.dev! Note that uploaded data is public. If you do not want to upload data for this plugin, use the \"--plugins\" command line argument.\n",
            "Data for the \"hparams\" plugin is now uploaded to TensorBoard.dev! Note that uploaded data is public. If you do not want to upload data for this plugin, use the \"--plugins\" command line argument.\n",
            "Upload started and will continue reading any new data as it's added\n",
            "to the logdir. To stop uploading, press Ctrl-C.\n",
            "\n",
            "View your TensorBoard live at: https://tensorboard.dev/experiment/73taSKxXQeGPQsNBcVvY3g/\n",
            "\n",
            "\u001b[1m[2020-09-14T05:02:48]\u001b[0m Uploader started.\n",
            "\u001b[1m[2020-09-14T05:02:50]\u001b[0m Total uploaded: 40 scalars, 0 tensors, 2 binary objects (3.2 MB)\n",
            "\u001b[2K\u001b[33mListening for new data in logdir...\u001b[0m\n",
            "Done. View your TensorBoard at https://tensorboard.dev/experiment/73taSKxXQeGPQsNBcVvY3g/\n"
          ]
        }
      ],
      "source": [
        "# Upload TensorBoard dev records\n",
        "!tensorboard dev upload --logdir ./tensorflow_hub/ \\\n",
        "  --name \"EfficientNetB0 vs. ResNet50V2\" \\\n",
        "  --description \"Comparing two different TF Hub feature extraction models architectures using 10% of training images\" \\\n",
        "  --one_shot"
      ]
    },
    {
      "cell_type": "markdown",
      "metadata": {
        "id": "FlVfmBdBOPvf"
      },
      "source": [
        "Mỗi lần upload thứ gì đó lên TensorBoad.dev, bạn sẽ có một experiment ID mới. Experiment ID trông như sau: https://tensorboard.dev/experiment/73taSKxXQeGPQsNBcVvY3g/ (đây là experiment thực tiễn từ notebook này).\n",
        "\n",
        "Nếu lại upload cùng một directory, bạn sẽ nhận được một experiment ID cùng với nó.\n",
        "\n",
        "Điều này tức là bạn cần xem xét cách đặt tên upload để theo dõi experiment của mình. Theo cách này, khi tìm chúng trên TensorBoard.dev, bạn sẽ biết những gì diễn ra trong mỗi experiment (chẳng hạn: \"efficientnet0_10_percent_data\").\n",
        "\n",
        "### Liệt kê các experiment đã lưu vào TensorBoard\n",
        "\n",
        "Sử dụng lệnh sau để xem tất cả các experiment bạn đã upload:\n",
        "\n",
        "```tensorboard dev list```"
      ]
    },
    {
      "cell_type": "code",
      "execution_count": null,
      "metadata": {
        "colab": {
          "base_uri": "https://localhost:8080/",
          "height": 496
        },
        "id": "sDamroaMOFJx",
        "outputId": "d086e0da-e091-4504-87d6-a50aa4636577"
      },
      "outputs": [
        {
          "name": "stdout",
          "output_type": "stream",
          "text": [
            "2020-09-14 05:04:21.965097: I tensorflow/stream_executor/platform/default/dso_loader.cc:48] Successfully opened dynamic library libcudart.so.10.1\n",
            "Data for the \"graphs\" plugin is now uploaded to TensorBoard.dev! Note that uploaded data is public. If you do not want to upload data for this plugin, use the \"--plugins\" command line argument.\n",
            "Data for the \"histograms\" plugin is now uploaded to TensorBoard.dev! Note that uploaded data is public. If you do not want to upload data for this plugin, use the \"--plugins\" command line argument.\n",
            "Data for the \"hparams\" plugin is now uploaded to TensorBoard.dev! Note that uploaded data is public. If you do not want to upload data for this plugin, use the \"--plugins\" command line argument.\n",
            "https://tensorboard.dev/experiment/73taSKxXQeGPQsNBcVvY3g/\n",
            "\tName                 EfficientNetB0 vs. ResNet50V2\n",
            "\tDescription          Comparing two different TF Hub feature extraction models architectures using 10% of training images\n",
            "\tId                   73taSKxXQeGPQsNBcVvY3g\n",
            "\tCreated              2020-09-14 05:02:48 (1 minute ago)\n",
            "\tUpdated              2020-09-14 05:02:50 (1 minute ago)\n",
            "\tRuns                 4\n",
            "\tTags                 3\n",
            "\tScalars              40\n",
            "\tTensor bytes         0\n",
            "\tBinary object bytes  3402042\n",
            "https://tensorboard.dev/experiment/n6kd8XZ3Rdy1jSgSLH5WjA/\n",
            "\tName                 EfficientNetB0 vs. ResNet50V2\n",
            "\tDescription          Comparing two different TF Hub feature extraction models architectures using 10% of training images\n",
            "\tId                   n6kd8XZ3Rdy1jSgSLH5WjA\n",
            "\tCreated              2020-09-14 05:01:17 (3 minutes ago)\n",
            "\tUpdated              2020-09-14 05:01:23 (3 minutes ago)\n",
            "\tRuns                 10\n",
            "\tTags                 3\n",
            "\tScalars              100\n",
            "\tTensor bytes         0\n",
            "\tBinary object bytes  7619131\n",
            "Total: 2 experiment(s)\n"
          ]
        }
      ],
      "source": [
        "# Kiểm tra các experiment\n",
        "!tensorboard dev list"
      ]
    },
    {
      "cell_type": "markdown",
      "metadata": {
        "id": "mdLUjm-xADQ4"
      },
      "source": [
        "### Xóa experiment khỏi TensorBoard\n",
        "\n",
        "Hãy nhớ rằng mọi upload lên TensorBoard.dev đều công khai nên để xóa experiment, có thể dùng lệnh:\n",
        "\n",
        "`tensorboard dev delete --experiment_id [INSERT_EXPERIMENT_ID]`\n",
        "\n"
      ]
    },
    {
      "cell_type": "code",
      "execution_count": null,
      "metadata": {
        "colab": {
          "base_uri": "https://localhost:8080/",
          "height": 122
        },
        "id": "qj69wuAlT-xS",
        "outputId": "fcc4a104-85eb-4f66-aa43-8bc25b75a51a"
      },
      "outputs": [
        {
          "name": "stdout",
          "output_type": "stream",
          "text": [
            "2020-09-14 05:06:06.959717: I tensorflow/stream_executor/platform/default/dso_loader.cc:48] Successfully opened dynamic library libcudart.so.10.1\n",
            "Data for the \"graphs\" plugin is now uploaded to TensorBoard.dev! Note that uploaded data is public. If you do not want to upload data for this plugin, use the \"--plugins\" command line argument.\n",
            "Data for the \"histograms\" plugin is now uploaded to TensorBoard.dev! Note that uploaded data is public. If you do not want to upload data for this plugin, use the \"--plugins\" command line argument.\n",
            "Data for the \"hparams\" plugin is now uploaded to TensorBoard.dev! Note that uploaded data is public. If you do not want to upload data for this plugin, use the \"--plugins\" command line argument.\n",
            "Deleted experiment n6kd8XZ3Rdy1jSgSLH5WjA.\n"
          ]
        }
      ],
      "source": [
        "# Xóa experiment\n",
        "!tensorboard dev delete --experiment_id n6kd8XZ3Rdy1jSgSLH5WjA"
      ]
    },
    {
      "cell_type": "code",
      "execution_count": null,
      "metadata": {
        "colab": {
          "base_uri": "https://localhost:8080/",
          "height": 309
        },
        "id": "Oov6qKvbU1lL",
        "outputId": "9d2997d3-7278-4290-e8b8-f4fb2c9aab76"
      },
      "outputs": [
        {
          "name": "stdout",
          "output_type": "stream",
          "text": [
            "2020-09-14 05:06:11.214919: I tensorflow/stream_executor/platform/default/dso_loader.cc:48] Successfully opened dynamic library libcudart.so.10.1\n",
            "Data for the \"graphs\" plugin is now uploaded to TensorBoard.dev! Note that uploaded data is public. If you do not want to upload data for this plugin, use the \"--plugins\" command line argument.\n",
            "Data for the \"histograms\" plugin is now uploaded to TensorBoard.dev! Note that uploaded data is public. If you do not want to upload data for this plugin, use the \"--plugins\" command line argument.\n",
            "Data for the \"hparams\" plugin is now uploaded to TensorBoard.dev! Note that uploaded data is public. If you do not want to upload data for this plugin, use the \"--plugins\" command line argument.\n",
            "https://tensorboard.dev/experiment/73taSKxXQeGPQsNBcVvY3g/\n",
            "\tName                 EfficientNetB0 vs. ResNet50V2\n",
            "\tDescription          Comparing two different TF Hub feature extraction models architectures using 10% of training images\n",
            "\tId                   73taSKxXQeGPQsNBcVvY3g\n",
            "\tCreated              2020-09-14 05:02:48 (3 minutes ago)\n",
            "\tUpdated              2020-09-14 05:02:50 (3 minutes ago)\n",
            "\tRuns                 4\n",
            "\tTags                 3\n",
            "\tScalars              40\n",
            "\tTensor bytes         0\n",
            "\tBinary object bytes  3402042\n",
            "Total: 1 experiment(s)\n"
          ]
        }
      ],
      "source": [
        "# Kiểm tra xem experiment còn tồn tại không\n",
        "!tensorboard dev list"
      ]
    },
    {
      "cell_type": "markdown",
      "metadata": {
        "id": "KLvUjrL2Y1Ed"
      },
      "source": [
        "## 🛠 Bài tập thực hành \n",
        "> **Lưu ý:** Các bạn cần làm phần bài tập này để chuẩn bị cho phiên review lab.\n",
        "\n",
        "1. Xây dựng và khớp mô hình sử dụng dữ liệu giống với dữ liệu mà chúng ta có ở đây nhưng với MobileNetV2 architecture feature extraction ([`mobilenet_v2_100_224/feature_vector`](https://tfhub.dev/google/imagenet/mobilenet_v2_100_224/feature_vector/4)) từ TensorFlow Hub; nó hoạt động như thế nào so với các mô hình khác của chúng ta?\n",
        "2.Kể tên 3 mô hình phân loại hình ảnh khác nhau trên TensorFlow Hub mà chúng ta chưa bao giờ sử dụng.\n",
        "3. Xây dựng mô hình phân loại hình ảnh của hai thứ khác nhau mà bạn chụp được.\n",
        "  * Có thể dùng bất kỳ feature extraction layer nào từ TensorFlow Hub mà bạn muốn cho điều này.\n",
        "  * Cần đặt mục tiêu có ít nhất 10 ảnh của mỗi lớp, chẳng hạn để xây dựng bộ phân loại tủ lạnh với lò vi sóng, bạn sẽ cần 10 ảnh về tủ lạnh và 10 ảnh lò vi sóng.\n",
        "4. Mô hình nào đang hoạt động tốt nhất trên ImageNet?\n",
        "  * Gợi ý: hãy xem [sotabench.com](https://www.sotabench.com) cho điều này."
      ]
    },
    {
      "cell_type": "markdown",
      "metadata": {
        "id": "w_YxwuhfRzD5"
      },
      "source": [
        "## 📖 Tài liệu đọc thêm\n",
        "\n",
        "* Đọc qua [Hướng dẫn về TensorFlow Transfer Learning](https://www.tensorflow.org/tutorials/images/transfer_learning) và định nghĩa hai loại transfer learning chính theo cách của bạn.\n",
        "* Xem qua [hướng dẫn về Transfer Learning với TensorFlow Hub](https://www.tensorflow.org/tutorials/images/transfer_learning_with_hub) trên website TensorFlow và tự viết lại toàn bộ code vào một Google Colab notebook mới, chú thích mỗi bước thực hiện.\n",
        "* Chúng ta chưa đề cập fine-tuning với TensorFlow Hub trong notebook này nhưng nếu muốn biết thêm, hãy xem [hướng dẫn tinh chỉnh mô hình TensorFlow Hub](https://www.tensorflow.org/hub/tf2_saved_model#fine-tuning) trên homepage của TensorFlow.\n",
        "*  Xem xét [experiment tracking với Weights & Biases](https://www.wandb.com/experiment-tracking), làm cách nào để tích hợp nó với các TensorBoard log hiện có?"
      ]
    }
  ],
  "metadata": {
    "accelerator": "GPU",
    "colab": {
      "collapsed_sections": [],
      "provenance": [],
      "toc_visible": true
    },
    "kernelspec": {
      "display_name": "tensorflow",
      "language": "python",
      "name": "python3"
    },
    "language_info": {
      "codemirror_mode": {
        "name": "ipython",
        "version": 3
      },
      "file_extension": ".py",
      "mimetype": "text/x-python",
      "name": "python",
      "nbconvert_exporter": "python",
      "pygments_lexer": "ipython3",
      "version": "3.8.13 (default, Mar 28 2022, 06:16:26) \n[Clang 12.0.0 ]"
    },
    "vscode": {
      "interpreter": {
        "hash": "24bec51d22ce42ad82d3d623e4db1f356fda7164ca6a7be641985b75235e32ec"
      }
    }
  },
  "nbformat": 4,
  "nbformat_minor": 0
}
